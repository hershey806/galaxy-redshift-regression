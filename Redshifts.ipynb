{
 "cells": [
  {
   "cell_type": "markdown",
   "id": "fdb8d3dd",
   "metadata": {},
   "source": [
    "# Estimating Galaxy Redshifts from Photometric Magnitudes"
   ]
  },
  {
   "cell_type": "markdown",
   "id": "18f7b80f",
   "metadata": {},
   "source": [
    "# Sources\n",
    "https://data.galaxyzoo.org/#section-7 \\\n",
    "https://www.deepspace.ucsb.edu/wp-content/uploads/2023/04/Photometric-Redshift-Survey.pdf \\\n",
    "https://arxiv.org/pdf/1308.3496v2"
   ]
  },
  {
   "cell_type": "markdown",
   "id": "b2b9a31f-ff27-4c66-8620-a84797946c32",
   "metadata": {},
   "source": [
    "# Table of Contents\n",
    "\n",
    "* [Linear Regression With Only 1 Magnitude](#linreg1)\n",
    "\n",
    "* [Quadratic Regression With Only 1 Magnitude](#quadreg1)\n",
    "\n",
    "* [Polynomial Regression With G Magnitude](#polyg)\n",
    "\n",
    "* [Regularization With 5th Degree G Magnitude Polynomial](#5g)\n",
    "\n",
    "* [Linear & Quadratic Regression With All Magnitudes](#multi)\n",
    "\n",
    "* [Decision Trees](#dectree)\n",
    "\n",
    "* [Random Forests](#randforests)\n",
    "\n",
    "* [XGBoost](#xg)\n",
    "\n",
    "* [Neural Networks](#nn)\n",
    "  * [Trying a Different Optimizer (SGD)](#sgd)\n",
    "  * [Applying a Custom Learning Rate](#clr)\n",
    "  * [Optimization/Tuning With Keras Tuner](#tuning)\n",
    "* [Results](#results)"
   ]
  },
  {
   "cell_type": "code",
   "execution_count": 1,
   "id": "88520633",
   "metadata": {},
   "outputs": [],
   "source": [
    "import pandas as pd\n",
    "import numpy as np\n",
    "import matplotlib.pyplot as plt"
   ]
  },
  {
   "cell_type": "code",
   "execution_count": 3,
   "id": "2f3f0de0",
   "metadata": {},
   "outputs": [],
   "source": [
    "# only need columns with photometric magnitudes and the redshift\n",
    "\n",
    "cols_data = ['OBJID','PETROMAG_U','PETROMAG_G','PETROMAG_R','PETROMAG_I','PETROMAG_Z','CMODELMAG_R','REDSHIFT']\n",
    "df = pd.read_csv('gz2sample.csv',usecols=cols_data)"
   ]
  },
  {
   "cell_type": "code",
   "execution_count": 4,
   "id": "00f2c6b3",
   "metadata": {},
   "outputs": [
    {
     "name": "stdout",
     "output_type": "stream",
     "text": [
      "325704\n"
     ]
    }
   ],
   "source": [
    "print(len(df))"
   ]
  },
  {
   "cell_type": "code",
   "execution_count": 7,
   "id": "3a0a0f71",
   "metadata": {},
   "outputs": [],
   "source": [
    "# remove galaxies without redshift values\n",
    "\n",
    "df = df.loc[pd.notna(df['REDSHIFT'])].reset_index(drop=True)"
   ]
  },
  {
   "cell_type": "code",
   "execution_count": 9,
   "id": "fc8f918c",
   "metadata": {},
   "outputs": [
    {
     "name": "stdout",
     "output_type": "stream",
     "text": [
      "272542\n"
     ]
    }
   ],
   "source": [
    "print(len(df))"
   ]
  },
  {
   "cell_type": "markdown",
   "id": "d100ebc8",
   "metadata": {},
   "source": [
    "## Linear Regression With Only 1 Magnitude <a class=\"anchor\" id=\"lingreg1\"></a>"
   ]
  },
  {
   "cell_type": "code",
   "execution_count": 8,
   "id": "18a16c75",
   "metadata": {},
   "outputs": [],
   "source": [
    "import sklearn\n",
    "from sklearn.linear_model import LinearRegression\n",
    "from sklearn.model_selection import train_test_split\n",
    "from sklearn.metrics import mean_squared_error"
   ]
  },
  {
   "cell_type": "code",
   "execution_count": 11,
   "id": "2f5add96",
   "metadata": {},
   "outputs": [],
   "source": [
    "df_np = df.to_numpy()"
   ]
  },
  {
   "cell_type": "code",
   "execution_count": 13,
   "id": "5a811cdc",
   "metadata": {},
   "outputs": [],
   "source": [
    "umags = df_np[:,1].reshape(-1,1)\n",
    "gmags = df_np[:,2].reshape(-1,1)\n",
    "rmags = df_np[:,3].reshape(-1,1)\n",
    "imags = df_np[:,4].reshape(-1,1)\n",
    "zmags = df_np[:,5].reshape(-1,1)\n",
    "comprmags = df_np[:,6].reshape(-1,1)\n",
    "\n",
    "mags = [umags, gmags, rmags, imags, zmags, comprmags]\n",
    "\n",
    "redshifts = df_np[:,7].reshape(-1,1)"
   ]
  },
  {
   "cell_type": "code",
   "execution_count": 9,
   "id": "0d3e8097",
   "metadata": {},
   "outputs": [],
   "source": [
    "# using dict for errors to see which errors correspond to which magnitudes\n",
    "\n",
    "errors = {}\n",
    "models = []\n",
    "\n",
    "for i in range(len(mags)):\n",
    "    mag = mags[i]\n",
    "    x_train, x_test, y_train, y_test = train_test_split(mag, redshifts, test_size=0.40, random_state=1)\n",
    "    model = LinearRegression()\n",
    "    model.fit(x_train,y_train)\n",
    "    models.append(model)\n",
    "    \n",
    "    \n",
    "    y_pred = model.predict(x_test)\n",
    "    err = mean_squared_error(y_test,y_pred)\n",
    "    \n",
    "    # the i+1 index gets the name of the magnitude from the previously defined cols_data\n",
    "\n",
    "    errors[cols_data[i+1]] = err"
   ]
  },
  {
   "cell_type": "code",
   "execution_count": 10,
   "id": "4d56c532",
   "metadata": {},
   "outputs": [
    {
     "name": "stdout",
     "output_type": "stream",
     "text": [
      "{'PETROMAG_U': 0.001093018421512617, 'PETROMAG_G': 0.0010376681594089002, 'PETROMAG_R': 0.0013264429822672907, 'PETROMAG_I': 0.0014364548839049943, 'PETROMAG_Z': 0.001558526308435839, 'CMODELMAG_R': 0.0013398180660424506}\n"
     ]
    }
   ],
   "source": [
    "print(errors)"
   ]
  },
  {
   "cell_type": "code",
   "execution_count": 11,
   "id": "1a43a1e7",
   "metadata": {},
   "outputs": [
    {
     "name": "stdout",
     "output_type": "stream",
     "text": [
      "PETROMAG_G\n"
     ]
    }
   ],
   "source": [
    "# looks very complicated but just prints mag with least error\n",
    "# the part in brackets finds the index of the lowest magnitude\n",
    "# then prints the correspond magnitude\n",
    "\n",
    "print(list(errors.keys())[list(errors.values()).index(min(list(errors.values())))])"
   ]
  },
  {
   "cell_type": "markdown",
   "id": "955eb2f8",
   "metadata": {},
   "source": [
    "**Best magnitude to estimate redshift with simple linear regression: G magnitude**"
   ]
  },
  {
   "cell_type": "markdown",
   "id": "df20f04a",
   "metadata": {},
   "source": [
    "## Quadratic Regression With Only 1 Magnitude <a id=\"quadreg1\"></a>"
   ]
  },
  {
   "cell_type": "code",
   "execution_count": 9,
   "id": "b251a30f",
   "metadata": {},
   "outputs": [],
   "source": [
    "from sklearn.preprocessing import StandardScaler, PolynomialFeatures"
   ]
  },
  {
   "cell_type": "code",
   "execution_count": 14,
   "id": "fdfb5701",
   "metadata": {},
   "outputs": [],
   "source": [
    "errors_quad = {}\n",
    "models_quad = []\n",
    "\n",
    "for i in range(len(mags)):\n",
    "    mag = mags[i]\n",
    "    x_train, x_test, y_train, y_test = train_test_split(mag, redshifts, test_size=0.40, random_state=1)\n",
    "    \n",
    "    poly = PolynomialFeatures(degree=2, include_bias=False)\n",
    "    \n",
    "    X_train_mapped = poly.fit_transform(x_train)\n",
    "    \n",
    "    # use scaling to narrow range of features\n",
    "    scaler_poly = StandardScaler()\n",
    "    X_train_mapped_scaled = scaler_poly.fit_transform(X_train_mapped)\n",
    "    \n",
    "    # now train the model\n",
    "    model = LinearRegression()\n",
    "    model.fit(X_train_mapped_scaled, y_train)\n",
    "    models_quad.append(model)\n",
    "    \n",
    "    # Add polynomial features and scale the test set\n",
    "    X_test_mapped = poly.transform(x_test)\n",
    "    X_test_mapped_scaled = scaler_poly.transform(X_test_mapped)\n",
    "    \n",
    "    # compute errors\n",
    "    y_pred = model.predict(X_test_mapped_scaled)\n",
    "    err = mean_squared_error(y_test, y_pred)\n",
    "    errors_quad[cols_data[i+1]] = err\n",
    "\n",
    "\n"
   ]
  },
  {
   "cell_type": "code",
   "execution_count": 15,
   "id": "882bf1b7",
   "metadata": {},
   "outputs": [
    {
     "name": "stdout",
     "output_type": "stream",
     "text": [
      "{'PETROMAG_U': 0.0010185673325199044, 'PETROMAG_G': 0.0010120792750811065, 'PETROMAG_R': 0.0013142294854969004, 'PETROMAG_I': 0.0014334436600885855, 'PETROMAG_Z': 0.0015218353885272384, 'CMODELMAG_R': 0.0013312330939446542}\n"
     ]
    }
   ],
   "source": [
    "# the errors are a bit lower when compared to simple linear regression\n",
    "print(errors_quad)"
   ]
  },
  {
   "cell_type": "code",
   "execution_count": 16,
   "id": "1309ffad",
   "metadata": {},
   "outputs": [
    {
     "name": "stdout",
     "output_type": "stream",
     "text": [
      "PETROMAG_G\n"
     ]
    }
   ],
   "source": [
    "# G magnitude is still the best estimator\n",
    "print(list(errors_quad.keys())[list(errors_quad.values()).index(min(list(errors_quad.values())))])"
   ]
  },
  {
   "cell_type": "markdown",
   "id": "616d491a",
   "metadata": {},
   "source": [
    "**Best magnitude to estimate redshift with simple quadratic regression: G magnitude**"
   ]
  },
  {
   "cell_type": "markdown",
   "id": "9ae9fed3",
   "metadata": {},
   "source": [
    "## Polynomial Regression With G Magnitude <a id=\"polyg\"></a>"
   ]
  },
  {
   "cell_type": "markdown",
   "id": "e65fcb71",
   "metadata": {},
   "source": [
    "Because the G magnitude had the lowest error for linear and quadratic regression, we will explore higher degree regression with it."
   ]
  },
  {
   "cell_type": "code",
   "execution_count": 9,
   "id": "bc623a4a",
   "metadata": {},
   "outputs": [],
   "source": [
    "from sklearn.model_selection import cross_val_score\n",
    "\n",
    "# using cross-validation"
   ]
  },
  {
   "cell_type": "code",
   "execution_count": 41,
   "id": "70c7fd89",
   "metadata": {},
   "outputs": [],
   "source": [
    "# sep lists for cv and test ers\n",
    "# don't need dict since keys are just numbers so easy to tell\n",
    "\n",
    "cv_ers_poly = []\n",
    "test_ers_poly = [] \n",
    "mods_poly = []\n",
    "\n",
    "for i in range(1,10):\n",
    "    x_train, x_test, y_train, y_test = train_test_split(gmags, redshifts, test_size=0.40,random_state=1)\n",
    "    \n",
    "    poly = PolynomialFeatures(degree=i, include_bias=False)\n",
    "    \n",
    "    X_train_mapped = poly.fit_transform(x_train)\n",
    "    \n",
    "    # use scaling to narrow range of features\n",
    "    scaler_poly = StandardScaler()\n",
    "    X_train_mapped_scaled = scaler_poly.fit_transform(X_train_mapped)\n",
    "    \n",
    "    # now train the model\n",
    "    model = LinearRegression()\n",
    "    model.fit(X_train_mapped_scaled, y_train)\n",
    "    mods_poly.append(model)\n",
    "    \n",
    "    # perform cv\n",
    "    scores = cross_val_score(model,X_train_mapped_scaled,y_train,cv=5,scoring='neg_mean_squared_error')\n",
    "    cv_ers_poly.append(np.mean(scores))"
   ]
  },
  {
   "cell_type": "code",
   "execution_count": 42,
   "id": "c070f7e5",
   "metadata": {},
   "outputs": [
    {
     "data": {
      "text/plain": [
       "4"
      ]
     },
     "execution_count": 42,
     "metadata": {},
     "output_type": "execute_result"
    }
   ],
   "source": [
    "cv_ers_poly = np.asarray(cv_ers_poly)*-1\n",
    "np.argmin(cv_ers_poly) # 5th degree is best"
   ]
  },
  {
   "cell_type": "code",
   "execution_count": 36,
   "id": "29762610",
   "metadata": {},
   "outputs": [
    {
     "data": {
      "image/png": "[encoded data removed]",
      "text/plain": [
       "<Figure size 640x480 with 1 Axes>"
      ]
     },
     "metadata": {},
     "output_type": "display_data"
    }
   ],
   "source": [
    "degs = np.arange(1,10)\n",
    "plt.xlabel(\"Degree\")\n",
    "plt.ylabel(\"MSE\")\n",
    "plt.plot(degs,cv_ers_poly,marker='o',label='CV MSEs')\n",
    "plt.legend()\n",
    "plt.show()"
   ]
  },
  {
   "cell_type": "markdown",
   "id": "1f4ce119",
   "metadata": {},
   "source": [
    "From the graph and using the CV MSEs, we can see that a 5th degree polynomial is optimal. Higher degrees result in overfitting. "
   ]
  },
  {
   "cell_type": "code",
   "execution_count": 44,
   "id": "0da97077",
   "metadata": {},
   "outputs": [
    {
     "name": "stdout",
     "output_type": "stream",
     "text": [
      "Test error: 0.0009533707174715018\n"
     ]
    }
   ],
   "source": [
    "# test error with 5th deg poly\n",
    "\n",
    "x_train, x_test, y_train, y_test = train_test_split(gmags, redshifts, test_size=0.40,random_state=1)\n",
    "    \n",
    "poly = PolynomialFeatures(degree=5, include_bias=False)\n",
    "    \n",
    "X_train_mapped = poly.fit_transform(x_train)\n",
    "    \n",
    "# use scaling to narrow range of features\n",
    "scaler_poly = StandardScaler()\n",
    "X_train_mapped_scaled = scaler_poly.fit_transform(X_train_mapped)\n",
    "\n",
    "x_test_mapped = poly.transform(x_test)\n",
    "x_test_mapped_scaled = scaler_poly.transform(x_test_mapped)\n",
    "\n",
    "ypred = mods_poly[4].predict(x_test_mapped_scaled)\n",
    "error = mean_squared_error(y_test,ypred)\n",
    "print(f'Test error: {error}')"
   ]
  },
  {
   "cell_type": "markdown",
   "id": "92b9f044",
   "metadata": {},
   "source": [
    "## Regularization With 5th Degree G Magnitude Polynomial <a id=\"5g\"></a>"
   ]
  },
  {
   "cell_type": "code",
   "execution_count": 11,
   "id": "1fa60733",
   "metadata": {},
   "outputs": [],
   "source": [
    "from sklearn.linear_model import Ridge, RidgeCV # RidgeCV performs cross-validation to find best alpha"
   ]
  },
  {
   "cell_type": "code",
   "execution_count": 45,
   "id": "15a9fcc3",
   "metadata": {},
   "outputs": [],
   "source": [
    "x_train_reg, x_test_reg, y_train_reg, y_test_reg = train_test_split(gmags, redshifts, test_size=0.40,random_state=1)\n",
    "\n",
    "poly_reg = PolynomialFeatures(degree=5,include_bias=False)\n",
    "x_train_reg_mapped = poly_reg.fit_transform(x_train_reg)\n",
    "\n",
    "scaler_poly_reg = StandardScaler()\n",
    "x_train_reg_mapped_scaled = scaler_poly_reg.fit_transform(x_train_reg_mapped)"
   ]
  },
  {
   "cell_type": "code",
   "execution_count": 55,
   "id": "42cd17a1",
   "metadata": {},
   "outputs": [
    {
     "data": {
      "text/plain": [
       "RidgeCV(alphas=array([1.00000000e-05, 1.01099099e-03, 2.01198198e-03, 3.01297297e-03,\n",
       "       4.01396396e-03, 5.01495495e-03, 6.01594595e-03, 7.01693694e-03,\n",
       "       8.01792793e-03, 9.01891892e-03, 1.00199099e-02, 1.10209009e-02,\n",
       "       1.20218919e-02, 1.30228829e-02, 1.40238739e-02, 1.50248649e-02,\n",
       "       1.60258559e-02, 1.70268468e-02, 1.80278378e-02, 1.90288288e-02,\n",
       "       2.00298198e-02, 2.10308108e-0...\n",
       "       9.76977207e-01, 9.77978198e-01, 9.78979189e-01, 9.79980180e-01,\n",
       "       9.80981171e-01, 9.81982162e-01, 9.82983153e-01, 9.83984144e-01,\n",
       "       9.84985135e-01, 9.85986126e-01, 9.86987117e-01, 9.87988108e-01,\n",
       "       9.88989099e-01, 9.89990090e-01, 9.90991081e-01, 9.91992072e-01,\n",
       "       9.92993063e-01, 9.93994054e-01, 9.94995045e-01, 9.95996036e-01,\n",
       "       9.96997027e-01, 9.97998018e-01, 9.98999009e-01, 1.00000000e+00]),\n",
       "        store_cv_values=True)"
      ]
     },
     "execution_count": 55,
     "metadata": {},
     "output_type": "execute_result"
    }
   ],
   "source": [
    "clf = RidgeCV(alphas=np.linspace(1e-5,1,1000),store_cv_values=True) # tales a bit of time to run\n",
    "clf.fit(x_train_reg_mapped_scaled,y_train_reg)"
   ]
  },
  {
   "cell_type": "code",
   "execution_count": 56,
   "id": "615359cd",
   "metadata": {},
   "outputs": [
    {
     "name": "stdout",
     "output_type": "stream",
     "text": [
      "1e-05\n"
     ]
    }
   ],
   "source": [
    "best_alpha = clf.alpha_ # 1e-5\n",
    "print(best_alpha)"
   ]
  },
  {
   "cell_type": "code",
   "execution_count": 57,
   "id": "440ae724",
   "metadata": {},
   "outputs": [
    {
     "name": "stdout",
     "output_type": "stream",
     "text": [
      "0.0009531636173669854\n"
     ]
    }
   ],
   "source": [
    "x_test_reg_mapped = poly_reg.transform(x_test_reg)\n",
    "x_test_reg_mapped_scaled = scaler_poly_reg.transform(x_test_reg_mapped)\n",
    "\n",
    "ypreds = clf.predict(x_test_reg_mapped_scaled)\n",
    "reg_error = mean_squared_error(y_test_reg,ypreds)\n",
    "print(reg_error)"
   ]
  },
  {
   "cell_type": "markdown",
   "id": "c41baa9a",
   "metadata": {},
   "source": [
    "Regularization results in a very slight decrease in error compared to the 5th degree polynomial above. "
   ]
  },
  {
   "cell_type": "markdown",
   "id": "c60848e8",
   "metadata": {},
   "source": [
    "## Linear & Quadratic Regression With All Magnitudes <a id=\"multi\"></a>"
   ]
  },
  {
   "attachments": {
    "image.png": {
     "image/png": "[encoded data removed]"
    }
   },
   "cell_type": "markdown",
   "id": "049b3d7b",
   "metadata": {},
   "source": [
    "Now we will try regression of the following form (picture from Source 2)\n",
    "![image.png](attachment:image.png)"
   ]
  },
  {
   "cell_type": "code",
   "execution_count": 11,
   "id": "847a2f14",
   "metadata": {},
   "outputs": [
    {
     "name": "stdout",
     "output_type": "stream",
     "text": [
      "[[-0.00245693  0.09831977 -0.02502455 -0.02372536  0.00247669 -0.02548602]] [-0.39508463]\n"
     ]
    }
   ],
   "source": [
    "all_mags = df_np[:,1:7]\n",
    "\n",
    "x_train, x_test, y_train, y_test = train_test_split(all_mags, redshifts, test_size=0.40, random_state=1)\n",
    "combined_lin_model = LinearRegression()\n",
    "combined_lin_model.fit(x_train,y_train)\n",
    "print(combined_lin_model.coef_, combined_lin_model.intercept_)"
   ]
  },
  {
   "cell_type": "code",
   "execution_count": 13,
   "id": "164eee70",
   "metadata": {},
   "outputs": [
    {
     "name": "stdout",
     "output_type": "stream",
     "text": [
      "0.0007742508728773586\n"
     ]
    }
   ],
   "source": [
    "combined_preds = combined_lin_model.predict(x_test)\n",
    "combined_error = mean_squared_error(y_test,combined_preds)\n",
    "print(combined_error)"
   ]
  },
  {
   "cell_type": "markdown",
   "id": "3546f7f1",
   "metadata": {},
   "source": [
    "Multiple linear regression has the lowest error so far! Let's try multiple quadratic regression now."
   ]
  },
  {
   "cell_type": "code",
   "execution_count": 69,
   "id": "c86a521d",
   "metadata": {},
   "outputs": [],
   "source": [
    "comb_poly = PolynomialFeatures(degree=2,interaction_only=True) # gets rid of m**2 terms\n",
    "all_mags_pol = comb_poly.fit_transform(all_mags)\n",
    "all_mags_poly = all_mags_pol[:,7:] # gets rid of the column of 1 and invididual magntidues\n",
    "# only want columns of form m1*m2"
   ]
  },
  {
   "cell_type": "code",
   "execution_count": 70,
   "id": "aa750cc6",
   "metadata": {},
   "outputs": [
    {
     "name": "stdout",
     "output_type": "stream",
     "text": [
      "[[-0.0990168  -0.24888944  0.12939139 -0.00625145  0.21306036  1.36907573\n",
      "  -0.60841757 -0.06479344 -0.44330745 -0.58411763  0.15347635 -0.71678834\n",
      "   0.01457752  1.00369878 -0.08883311]] [0.08212908]\n"
     ]
    }
   ],
   "source": [
    "x_train, x_test, y_train, y_test = train_test_split(all_mags_poly, redshifts, test_size=0.40, random_state=1)\n",
    "\n",
    "scaler_comb_poly = StandardScaler()\n",
    "x_train_scal = scaler_comb_poly.fit_transform(x_train)\n",
    "\n",
    "comb_quad_mod = LinearRegression()\n",
    "comb_quad_mod.fit(x_train_scal,y_train)\n",
    "print(comb_quad_mod.coef_, comb_quad_mod.intercept_)"
   ]
  },
  {
   "cell_type": "code",
   "execution_count": 71,
   "id": "42718e04",
   "metadata": {},
   "outputs": [
    {
     "name": "stdout",
     "output_type": "stream",
     "text": [
      "0.0013073238422247932\n"
     ]
    }
   ],
   "source": [
    "comb_quad_pred = comb_quad_mod.predict(scaler_comb_poly.transform(x_test))\n",
    "comb_quad_error = mean_squared_error(y_test, comb_quad_pred)\n",
    "print(comb_quad_error)"
   ]
  },
  {
   "cell_type": "markdown",
   "id": "0a8c42e4",
   "metadata": {},
   "source": [
    "Multiple quadratic regression performs  worse than multiple linear regression and all the previous models as well."
   ]
  },
  {
   "cell_type": "markdown",
   "id": "edc2678c",
   "metadata": {},
   "source": [
    "## Decision Trees <a id=\"dectree\"></a>"
   ]
  },
  {
   "cell_type": "code",
   "execution_count": 13,
   "id": "24fa721b",
   "metadata": {},
   "outputs": [],
   "source": [
    "from sklearn.tree import DecisionTreeRegressor"
   ]
  },
  {
   "cell_type": "code",
   "execution_count": 15,
   "id": "e3de8402",
   "metadata": {},
   "outputs": [
    {
     "data": {
      "text/plain": [
       "0.0009208478876526114"
      ]
     },
     "execution_count": 15,
     "metadata": {},
     "output_type": "execute_result"
    }
   ],
   "source": [
    "x_train, x_test, y_train, y_test = train_test_split(all_mags, redshifts, test_size=0.40, random_state=1)\n",
    "tree = DecisionTreeRegressor(random_state = 1)\n",
    "tree.fit(x_train,y_train)\n",
    "preds = tree.predict(x_test)\n",
    "mean_squared_error(y_test, preds)"
   ]
  },
  {
   "cell_type": "markdown",
   "id": "5d7ad330",
   "metadata": {},
   "source": [
    "The default decision tree performs quite well. Let's see if we can improve this with hyperparameter tuning."
   ]
  },
  {
   "cell_type": "code",
   "execution_count": 13,
   "id": "0263b279",
   "metadata": {},
   "outputs": [],
   "source": [
    "from sklearn.model_selection import GridSearchCV"
   ]
  },
  {
   "cell_type": "code",
   "execution_count": 101,
   "id": "f262799b",
   "metadata": {},
   "outputs": [],
   "source": [
    "parameters = {'max_depth': [10, 20, 30, 40, 50, 60, 70], 'min_samples_split': [5, 10, 15, 20, 25],\n",
    "             'min_samples_leaf': [1, 2, 4, 6, 8, 10]}"
   ]
  },
  {
   "cell_type": "code",
   "execution_count": 103,
   "id": "8b18d5f6",
   "metadata": {},
   "outputs": [
    {
     "name": "stdout",
     "output_type": "stream",
     "text": [
      "{'max_depth': 10, 'min_samples_leaf': 10, 'min_samples_split': 25}\n",
      "-0.0005808992975811342\n"
     ]
    }
   ],
   "source": [
    "# takes a VERY long time to run\n",
    "\n",
    "tree_search = DecisionTreeRegressor()\n",
    "clf = GridSearchCV(tree_search, parameters, cv=10, scoring='neg_mean_squared_error', n_jobs=2)\n",
    "clf.fit(x_train, y_train)\n",
    "print(clf.best_params_)\n",
    "print(clf.best_score_)"
   ]
  },
  {
   "cell_type": "markdown",
   "id": "bab6c178",
   "metadata": {},
   "source": [
    "Results from running grid search on Spyder with cv = 3, n_job = -1 (using all cores): \\\n",
    "best parameters: {'max_depth': 10, 'min_samples_leaf': 10, 'min_samples_split': 25} (SAME as with cv = 10 above) \\\n",
    "best score: -0.0005856201766644705 (negative because of scoring method)"
   ]
  },
  {
   "cell_type": "code",
   "execution_count": 16,
   "id": "e7cd0eba",
   "metadata": {},
   "outputs": [
    {
     "data": {
      "text/plain": [
       "0.0005828678553508061"
      ]
     },
     "execution_count": 16,
     "metadata": {},
     "output_type": "execute_result"
    }
   ],
   "source": [
    "best_tree = DecisionTreeRegressor(max_depth=10,min_samples_leaf=10,min_samples_split=25,random_state=1)\n",
    "best_tree.fit(x_train, y_train)\n",
    "preds_best = best_tree.predict(x_test)\n",
    "mean_squared_error(y_test,preds_best)"
   ]
  },
  {
   "cell_type": "markdown",
   "id": "f5cf2bfe",
   "metadata": {},
   "source": [
    "The tuned decision tree performs quite better than the default. It is worth noting that there is also a method called HalvingGridSearchCV and when I used this in Spyder with the same parameters it performed much faster and returned the same results."
   ]
  },
  {
   "cell_type": "markdown",
   "id": "b9061d46",
   "metadata": {},
   "source": [
    "## Random Forests <a id=\"randforests\"></a>"
   ]
  },
  {
   "cell_type": "code",
   "execution_count": 18,
   "id": "45bfc32a",
   "metadata": {},
   "outputs": [
    {
     "data": {
      "text/plain": [
       "0.0004702639463106397"
      ]
     },
     "execution_count": 18,
     "metadata": {},
     "output_type": "execute_result"
    }
   ],
   "source": [
    "from sklearn.ensemble import RandomForestRegressor\n",
    "\n",
    "x_train, x_test, y_train, y_test = train_test_split(all_mags, redshifts, test_size=0.40, random_state=1)\n",
    "forest = RandomForestRegressor(random_state = 1)\n",
    "forest.fit(x_train,y_train.ravel())\n",
    "preds = forest.predict(x_test)\n",
    "mean_squared_error(y_test.ravel(), preds)"
   ]
  },
  {
   "cell_type": "markdown",
   "id": "fd676160",
   "metadata": {},
   "source": [
    "The default random forest performs better than the best decision tree!"
   ]
  },
  {
   "cell_type": "code",
   "execution_count": 119,
   "id": "17caf9fc",
   "metadata": {},
   "outputs": [
    {
     "data": {
      "text/plain": [
       "array([0.15798818, 0.5215468 , 0.07919978, 0.1097345 , 0.06818453,\n",
       "       0.06334622])"
      ]
     },
     "execution_count": 119,
     "metadata": {},
     "output_type": "execute_result"
    }
   ],
   "source": [
    "forest.feature_importances_ # g magnitude is most important. interesting because this supports our previous\n",
    "                            # conclusion that the g magnitude was the best single predictor of redshift"
   ]
  },
  {
   "cell_type": "markdown",
   "id": "b9b2770c",
   "metadata": {},
   "source": [
    "Hyperparameter tuning for random forests takes quite a long time, so I used HalvingGridSearchCV testing the following parameters: {'n_estimators': [50, 100, 125, 150, 200], 'min_samples_split': [5, 10, 15, 20, 25],\n",
    "             'min_samples_leaf': [10, 15, 20, 30]}, which yielded the following as the best combination: \\\n",
    "             {'min_samples_leaf': 10, 'min_samples_split': 20, 'n_estimators': 200} -0.0004724176946052056"
   ]
  },
  {
   "cell_type": "code",
   "execution_count": 19,
   "id": "5e3d8c54",
   "metadata": {},
   "outputs": [
    {
     "data": {
      "text/plain": [
       "0.00046679782939900057"
      ]
     },
     "execution_count": 19,
     "metadata": {},
     "output_type": "execute_result"
    }
   ],
   "source": [
    "best_forest = RandomForestRegressor(min_samples_leaf=10, min_samples_split=20, n_estimators=200, random_state = 1)\n",
    "best_forest.fit(x_train,y_train.ravel())\n",
    "preds_best = best_forest.predict(x_test)\n",
    "mean_squared_error(y_test.ravel(), preds_best)"
   ]
  },
  {
   "cell_type": "markdown",
   "id": "b5961f8e",
   "metadata": {},
   "source": [
    "The hyperparameter tuning I used wasn't quite exhaustive as I used HalvingGridSearchCV to save time, but the random forest above sitll performs better than the default. Let's try using RandomizedSearchCV as well."
   ]
  },
  {
   "cell_type": "code",
   "execution_count": 15,
   "id": "51be1715",
   "metadata": {},
   "outputs": [],
   "source": [
    "from sklearn.model_selection import RandomizedSearchCV"
   ]
  },
  {
   "cell_type": "code",
   "execution_count": 23,
   "id": "d59645e7",
   "metadata": {},
   "outputs": [
    {
     "data": {
      "text/plain": [
       "-0.0004660957584652083"
      ]
     },
     "execution_count": 23,
     "metadata": {},
     "output_type": "execute_result"
    }
   ],
   "source": [
    "test_random_forest = RandomForestRegressor()\n",
    "param_dist = {'n_estimators': [100, 125, 150, 200, 250], 'min_samples_split': [10, 15, 20, 25],\n",
    "             'min_samples_leaf': [5, 10, 15, 20, 30, 35]}\n",
    "\n",
    "rand_search = RandomizedSearchCV(test_random_forest,param_distributions=param_dist,n_iter=20,cv=5, scoring='neg_mean_squared_error',n_jobs=-1)\n",
    "rand_search.fit(x_train,y_train.ravel())\n",
    "rand_search.best_score_"
   ]
  },
  {
   "cell_type": "code",
   "execution_count": 24,
   "id": "02b164df",
   "metadata": {},
   "outputs": [
    {
     "data": {
      "text/plain": [
       "{'n_estimators': 200, 'min_samples_split': 20, 'min_samples_leaf': 5}"
      ]
     },
     "execution_count": 24,
     "metadata": {},
     "output_type": "execute_result"
    }
   ],
   "source": [
    "rand_search.best_params_"
   ]
  },
  {
   "cell_type": "code",
   "execution_count": 25,
   "id": "c1dfc800",
   "metadata": {},
   "outputs": [
    {
     "data": {
      "text/plain": [
       "0.0004647847272505329"
      ]
     },
     "execution_count": 25,
     "metadata": {},
     "output_type": "execute_result"
    }
   ],
   "source": [
    "best_rand_forest = RandomForestRegressor(min_samples_leaf=5,min_samples_split=20,n_estimators=200,random_state=1)\n",
    "best_rand_forest.fit(x_train,y_train.ravel())\n",
    "preds_best_rand = best_rand_forest.predict(x_test)\n",
    "mean_squared_error(y_test.ravel(),preds_best_rand)"
   ]
  },
  {
   "cell_type": "markdown",
   "id": "e0e3fb92",
   "metadata": {},
   "source": [
    "The parameters with the randomized search perform a bit better, although not significantly. "
   ]
  },
  {
   "cell_type": "markdown",
   "id": "e7d57580",
   "metadata": {},
   "source": [
    "## XGBoost <a id=\"xg\"></a>"
   ]
  },
  {
   "cell_type": "code",
   "execution_count": 16,
   "id": "593f9db7",
   "metadata": {},
   "outputs": [],
   "source": [
    "import xgboost\n",
    "from xgboost.sklearn import XGBRegressor"
   ]
  },
  {
   "cell_type": "code",
   "execution_count": 59,
   "id": "e710e995",
   "metadata": {},
   "outputs": [
    {
     "data": {
      "text/plain": [
       "0.00047559614678738835"
      ]
     },
     "execution_count": 59,
     "metadata": {},
     "output_type": "execute_result"
    }
   ],
   "source": [
    "mod = XGBRegressor(learning_rate=0.28, n_estimators=230)\n",
    "x_train, x_test, y_train, y_test = train_test_split(all_mags, redshifts, test_size=0.40, random_state=1)\n",
    "mod.fit(x_train,y_train)\n",
    "x_preds = mod.predict(x_test)\n",
    "mean_squared_error(y_test, x_preds)"
   ]
  },
  {
   "cell_type": "markdown",
   "id": "b1b9d4de",
   "metadata": {},
   "source": [
    "Below, I use the hyperopt library to perform hyperparameter tuning. Initially, the XGBRegressor in objective_function just had \\**params, then got more arguments as I determined the optimal values for hyperparameters. I first determined the best values for learning rate and n_estimators, followed by max_depth and min_child_weight. Then I tuned gamma by itself, followed by colsample_bytree and subsample together. Lastly, I did reg_lambda and retested gamma since it's most dependent on the other hyperparameters.  "
   ]
  },
  {
   "cell_type": "code",
   "execution_count": 48,
   "id": "e40c048b",
   "metadata": {},
   "outputs": [],
   "source": [
    "import hyperopt\n",
    "from hyperopt import STATUS_OK\n",
    "from hyperopt import tpe, hp, fmin, Trials\n",
    "from hyperopt.pyll.base import scope"
   ]
  },
  {
   "cell_type": "code",
   "execution_count": 134,
   "id": "18d08dce",
   "metadata": {},
   "outputs": [],
   "source": [
    "x_train, x_test, y_train, y_test = train_test_split(all_mags, redshifts, test_size=0.40, random_state=1)"
   ]
  },
  {
   "cell_type": "code",
   "execution_count": 133,
   "id": "8cebb72b",
   "metadata": {},
   "outputs": [],
   "source": [
    "def objective_function(params):\n",
    "    clf = XGBRegressor(learning_rate=0.28, n_estimators=230, max_depth=8, min_child_weight=9,\n",
    "                       colsample_bytree=0.91, subsample=1, reg_lambda=0.7, gamma=0.00018, **params)\n",
    "    score = cross_val_score(clf, x_train, y_train, cv=3,scoring='neg_mean_squared_error').mean()\n",
    "    return {'loss': -score, 'status': STATUS_OK}   # -score because we want something to minimize (score is -) "
   ]
  },
  {
   "cell_type": "code",
   "execution_count": 128,
   "id": "748a5d91",
   "metadata": {},
   "outputs": [],
   "source": [
    "# change space depending on which parameters you're testing\n",
    "\n",
    "space= {\n",
    "    'gamma': hp.uniform ('gamma', 0,0.01)\n",
    "}"
   ]
  },
  {
   "cell_type": "code",
   "execution_count": 129,
   "id": "ed34fceb",
   "metadata": {},
   "outputs": [],
   "source": [
    "trials = Trials()"
   ]
  },
  {
   "cell_type": "code",
   "execution_count": 130,
   "id": "ed992774",
   "metadata": {},
   "outputs": [
    {
     "name": "stdout",
     "output_type": "stream",
     "text": [
      "100%|██████| 100/100 [02:29<00:00,  1.50s/trial, best loss: 0.00048352600608672]\n"
     ]
    }
   ],
   "source": [
    "best_param = fmin(objective_function, space, algo=tpe.suggest, max_evals=100, trials=trials)"
   ]
  },
  {
   "cell_type": "code",
   "execution_count": 135,
   "id": "aea24ec1",
   "metadata": {},
   "outputs": [
    {
     "data": {
      "text/plain": [
       "0.00047885579565193196"
      ]
     },
     "execution_count": 135,
     "metadata": {},
     "output_type": "execute_result"
    }
   ],
   "source": [
    "best_xgb = XGBRegressor(learning_rate=0.28, n_estimators=230, max_depth=8, min_child_weight=9,\n",
    "                       colsample_bytree=0.91, subsample=1, reg_lambda=0.7, gamma=0.00018)\n",
    "best_xgb.fit(x_train,y_train)\n",
    "best_x_preds = best_xgb.predict(x_test)\n",
    "mean_squared_error(y_test, best_x_preds)"
   ]
  },
  {
   "cell_type": "markdown",
   "id": "7e30f196",
   "metadata": {},
   "source": [
    "The tuned model actually performs a bit worse than the default! "
   ]
  },
  {
   "cell_type": "markdown",
   "id": "2f3ac8cd",
   "metadata": {},
   "source": [
    "## Neural Networks <a id=\"nn\"></a>"
   ]
  },
  {
   "cell_type": "code",
   "execution_count": 12,
   "id": "a173a63d-ed12-4be4-a6af-a1e1f38d1b17",
   "metadata": {},
   "outputs": [],
   "source": [
    "import tensorflow as tf\n",
    "from tensorflow.keras import Model\n",
    "from tensorflow.keras import Sequential\n",
    "from tensorflow.keras.optimizers import Adam\n",
    "from tensorflow.keras.layers import Dense, Dropout"
   ]
  },
  {
   "cell_type": "code",
   "execution_count": 13,
   "id": "084a89e1-ee76-4ae4-931d-77ed295140a3",
   "metadata": {},
   "outputs": [],
   "source": [
    "x_train, x_test, y_train, y_test = train_test_split(all_mags, redshifts, test_size=0.40, random_state=1)"
   ]
  },
  {
   "cell_type": "code",
   "execution_count": 13,
   "id": "a7e3accb-cbe0-4a8f-be45-b39197968ddc",
   "metadata": {},
   "outputs": [],
   "source": [
    "model = Sequential()\n",
    "\n",
    "model.add(Dense(128, kernel_initializer='normal', input_dim = all_mags.shape[1], activation='relu'))\n",
    "model.add(Dense(512, kernel_initializer='normal', activation='relu'))\n",
    "model.add(Dense(256, kernel_initializer='normal', activation='relu'))\n",
    "model.add(Dense(1,activation='linear'))"
   ]
  },
  {
   "cell_type": "code",
   "execution_count": 26,
   "id": "ed44ba85-f8dd-4726-b84c-70bc34ab3d90",
   "metadata": {},
   "outputs": [],
   "source": [
    "from keras.callbacks import EarlyStopping\n",
    "\n",
    "callback = EarlyStopping(mode='min', patience=3, start_from_epoch=2, restore_best_weights=True)"
   ]
  },
  {
   "cell_type": "code",
   "execution_count": 16,
   "id": "ba986f8b-5215-4c2f-a785-a16b079dc678",
   "metadata": {},
   "outputs": [
    {
     "name": "stdout",
     "output_type": "stream",
     "text": [
      "Epoch 1/15\n"
     ]
    },
    {
     "name": "stderr",
     "output_type": "stream",
     "text": [
      "2024-08-11 15:13:38.008526: W tensorflow/tsl/platform/profile_utils/cpu_utils.cc:128] Failed to get CPU frequency: 0 Hz\n"
     ]
    },
    {
     "name": "stdout",
     "output_type": "stream",
     "text": [
      "4089/4089 [==============================] - 11s 3ms/step - loss: 0.0059 - mean_squared_error: 0.0059 - val_loss: 8.4485e-04 - val_mean_squared_error: 8.4500e-04\n",
      "Epoch 2/15\n",
      "4089/4089 [==============================] - 13s 3ms/step - loss: 9.5498e-04 - mean_squared_error: 9.5484e-04 - val_loss: 0.0011 - val_mean_squared_error: 0.0011\n",
      "Epoch 3/15\n",
      "4089/4089 [==============================] - 12s 3ms/step - loss: 8.8594e-04 - mean_squared_error: 8.8608e-04 - val_loss: 0.0018 - val_mean_squared_error: 0.0018\n",
      "Epoch 4/15\n",
      "4089/4089 [==============================] - 13s 3ms/step - loss: 8.3547e-04 - mean_squared_error: 8.3538e-04 - val_loss: 9.4528e-04 - val_mean_squared_error: 9.4444e-04\n",
      "Epoch 5/15\n",
      "4089/4089 [==============================] - 12s 3ms/step - loss: 7.8593e-04 - mean_squared_error: 7.8592e-04 - val_loss: 7.1991e-04 - val_mean_squared_error: 7.1980e-04\n",
      "Epoch 6/15\n",
      "4089/4089 [==============================] - 12s 3ms/step - loss: 7.6540e-04 - mean_squared_error: 7.6531e-04 - val_loss: 7.2139e-04 - val_mean_squared_error: 7.2087e-04\n",
      "Epoch 7/15\n",
      "4089/4089 [==============================] - 10s 3ms/step - loss: 7.4402e-04 - mean_squared_error: 7.4393e-04 - val_loss: 9.3019e-04 - val_mean_squared_error: 9.3043e-04\n",
      "Epoch 8/15\n",
      "4089/4089 [==============================] - 10s 2ms/step - loss: 7.4364e-04 - mean_squared_error: 7.4357e-04 - val_loss: 0.0012 - val_mean_squared_error: 0.0012\n"
     ]
    }
   ],
   "source": [
    "from tensorflow.keras.losses import MeanSquaredError\n",
    "\n",
    "opt = tf.keras.optimizers.legacy.Adam()\n",
    "\n",
    "model.compile(\n",
    "    loss=MeanSquaredError(),\n",
    "    optimizer=opt,\n",
    "    metrics=[MeanSquaredError()]\n",
    ")\n",
    "\n",
    "history = model.fit(\n",
    "    x_train,\n",
    "    y_train,\n",
    "    epochs=15,\n",
    "    validation_split=0.2,\n",
    "    callbacks=[callback]\n",
    ")"
   ]
  },
  {
   "cell_type": "code",
   "execution_count": 17,
   "id": "aafacbff-c822-4c12-b62e-d0cd60cfc3f7",
   "metadata": {},
   "outputs": [
    {
     "data": {
      "image/png": "[encoded data removed]",
      "text/plain": [
       "<Figure size 640x480 with 1 Axes>"
      ]
     },
     "metadata": {},
     "output_type": "display_data"
    }
   ],
   "source": [
    "import matplotlib.pyplot as plt\n",
    "\n",
    "plt.plot(history.history['mean_squared_error'])\n",
    "plt.plot(history.history['val_mean_squared_error'])\n",
    "plt.xlabel('epochs')\n",
    "plt.ylabel('MSE')\n",
    "plt.legend(['MSE', 'Val_MSE'])\n",
    "plt.show()"
   ]
  },
  {
   "cell_type": "code",
   "execution_count": 18,
   "id": "1f585f5f-15b6-4316-8012-ae0ef21e50c7",
   "metadata": {},
   "outputs": [
    {
     "name": "stdout",
     "output_type": "stream",
     "text": [
      "3407/3407 [==============================] - 2s 696us/step\n"
     ]
    },
    {
     "data": {
      "text/plain": [
       "0.0007255335970846147"
      ]
     },
     "execution_count": 18,
     "metadata": {},
     "output_type": "execute_result"
    }
   ],
   "source": [
    "preds = model.predict(x_test)\n",
    "mean_squared_error(y_test, preds)"
   ]
  },
  {
   "cell_type": "markdown",
   "id": "33146526-4236-4e69-998c-5855d34ad7b6",
   "metadata": {},
   "source": [
    "### Trying a Different Optimizer (SGD) <a id=\"sgd\"></a>"
   ]
  },
  {
   "cell_type": "code",
   "execution_count": 14,
   "id": "c8cbb2c0-685b-4785-a6a3-9c30d94a138d",
   "metadata": {},
   "outputs": [],
   "source": [
    "from keras.optimizers import SGD\n",
    "from keras.layers import Dropout\n",
    "from keras.layers import Activation\n",
    "from keras.callbacks import LearningRateScheduler\n",
    "from keras.callbacks import History"
   ]
  },
  {
   "cell_type": "code",
   "execution_count": 48,
   "id": "0dfd6758-853b-43b9-8902-092252f6ca7f",
   "metadata": {},
   "outputs": [],
   "source": [
    "epochs=25\n",
    "learning_rate = 0.01\n",
    "decay_rate = learning_rate / epochs\n",
    "momentum = 0.8\n",
    "\n",
    "sgd = SGD(learning_rate=learning_rate, momentum=momentum, decay=decay_rate, nesterov=False)"
   ]
  },
  {
   "cell_type": "code",
   "execution_count": 49,
   "id": "4b63a775-8c82-4081-aa5d-d5084bd3d857",
   "metadata": {},
   "outputs": [
    {
     "name": "stdout",
     "output_type": "stream",
     "text": [
      "Model: \"sequential_15\"\n",
      "_________________________________________________________________\n",
      " Layer (type)                Output Shape              Param #   \n",
      "=================================================================\n",
      " dense_60 (Dense)            (None, 128)               896       \n",
      "                                                                 \n",
      " dense_61 (Dense)            (None, 512)               66048     \n",
      "                                                                 \n",
      " dense_62 (Dense)            (None, 256)               131328    \n",
      "                                                                 \n",
      " dense_63 (Dense)            (None, 1)                 257       \n",
      "                                                                 \n",
      "=================================================================\n",
      "Total params: 198,529\n",
      "Trainable params: 198,529\n",
      "Non-trainable params: 0\n",
      "_________________________________________________________________\n"
     ]
    },
    {
     "data": {
      "text/plain": [
       "[<tf.Variable 'dense_60/kernel:0' shape=(6, 128) dtype=float32, numpy=\n",
       " array([[ 0.07137884,  0.10343893, -0.01929371,  0.08092182, -0.02461213,\n",
       "          0.07930227,  0.0328904 , -0.04296568, -0.03663724,  0.00614119,\n",
       "         -0.03875856,  0.06026657,  0.09772591,  0.01500783,  0.0666571 ,\n",
       "          0.06004075, -0.02004911, -0.04503536,  0.05712329,  0.03853827,\n",
       "          0.0189246 , -0.0404565 ,  0.0446541 , -0.05808144,  0.04640431,\n",
       "          0.02187275, -0.0397828 , -0.04848615,  0.09852854, -0.01790877,\n",
       "         -0.02230779,  0.0160573 , -0.13108325,  0.08938719,  0.02170239,\n",
       "         -0.01880541, -0.03906783, -0.02851162,  0.00179772,  0.00839507,\n",
       "         -0.0806906 ,  0.02881198,  0.02096538, -0.00517598, -0.01297061,\n",
       "          0.05475721, -0.12959217, -0.00918792,  0.04669653,  0.02920101,\n",
       "         -0.00597941, -0.02349964, -0.07746549, -0.01712573,  0.02008629,\n",
       "          0.02921356, -0.01000677, -0.15123026, -0.04954119,  0.10842606,\n",
       "         -0.01699221, -0.04767107, -0.07821324,  0.00909106, -0.06846073,\n",
       "         -0.03819124,  0.05267127, -0.013237  ,  0.02133798,  0.06904832,\n",
       "          0.03287554,  0.07160786, -0.01194531,  0.01923417, -0.05421537,\n",
       "         -0.07360937,  0.0399191 , -0.09123909,  0.04838046,  0.02004239,\n",
       "         -0.00306269,  0.00641884,  0.00324353,  0.07460872,  0.00208126,\n",
       "          0.01813869, -0.07837256, -0.05613386, -0.05026108, -0.02068976,\n",
       "         -0.07396174, -0.00671766, -0.03470407, -0.02954146, -0.00408438,\n",
       "         -0.02994836, -0.01985053,  0.04474595, -0.03337259,  0.11255985,\n",
       "          0.0202887 , -0.03120086,  0.06236867, -0.00248028, -0.01041505,\n",
       "         -0.06249262,  0.02517104,  0.028393  ,  0.04664193,  0.0228506 ,\n",
       "          0.00126444,  0.01534272,  0.07158997,  0.04582215,  0.03789912,\n",
       "         -0.02762148,  0.02470819, -0.04326965,  0.0330434 , -0.04408194,\n",
       "          0.01976732,  0.07871219,  0.03806981,  0.1216848 , -0.12925585,\n",
       "          0.05808289, -0.01488186,  0.04669009],\n",
       "        [-0.0487917 ,  0.0170604 ,  0.03268173, -0.01820141, -0.01755284,\n",
       "          0.00893868,  0.00140594,  0.01266608, -0.01599776,  0.03216482,\n",
       "         -0.07186116,  0.04118537,  0.01863475,  0.02389406, -0.01711689,\n",
       "          0.0014503 ,  0.0009008 , -0.03714458, -0.02958206, -0.00114238,\n",
       "          0.01565324, -0.07336258, -0.0456476 , -0.01984002, -0.03873152,\n",
       "         -0.02793664, -0.08389022, -0.06561726,  0.03846473, -0.00547206,\n",
       "         -0.01313474,  0.07761639, -0.02003765, -0.07478137, -0.02831925,\n",
       "         -0.04301913,  0.11354522, -0.0951637 ,  0.11528744, -0.05235115,\n",
       "         -0.07270516,  0.03117189, -0.04502684, -0.02011607,  0.07262209,\n",
       "         -0.07959387,  0.00758375,  0.09557772,  0.00166579,  0.02355488,\n",
       "          0.04954393, -0.04794444,  0.02884385,  0.00660099,  0.00618731,\n",
       "         -0.07054316, -0.01829926,  0.07609437, -0.01322087,  0.00205701,\n",
       "          0.05148452,  0.03140628,  0.048478  ,  0.08530145,  0.00403343,\n",
       "         -0.10339745, -0.06113848, -0.0258441 ,  0.02051198, -0.05378219,\n",
       "          0.01237445, -0.10075744, -0.01541091, -0.03515574, -0.02748999,\n",
       "         -0.03015581,  0.03877863, -0.09032743, -0.03415808, -0.06213745,\n",
       "          0.0105407 ,  0.0561908 ,  0.05015432,  0.00366901,  0.00312073,\n",
       "         -0.0270183 ,  0.00325698,  0.07747203,  0.05679974, -0.08684111,\n",
       "         -0.00763288,  0.01430217, -0.0279835 , -0.0001767 ,  0.04620914,\n",
       "         -0.07557344, -0.04797823,  0.01661387,  0.01751611, -0.11296854,\n",
       "          0.04090576,  0.0006565 , -0.00593625,  0.03401149, -0.04153937,\n",
       "         -0.01255974,  0.01806687, -0.05103699,  0.05782679,  0.08958858,\n",
       "          0.01941947, -0.09249465,  0.06096968,  0.01102099, -0.01256665,\n",
       "         -0.0512576 , -0.01263084, -0.04345843, -0.01567373, -0.08855232,\n",
       "         -0.00205111,  0.01223636,  0.0025881 ,  0.06770554,  0.00446005,\n",
       "          0.03942392,  0.02957832, -0.00823057],\n",
       "        [-0.00762618, -0.09351455, -0.01271393, -0.01753972, -0.02555775,\n",
       "         -0.06751179,  0.05286868, -0.06690439, -0.08608612,  0.04432105,\n",
       "          0.0462272 , -0.05915233, -0.09951629,  0.08874208, -0.02020353,\n",
       "          0.04843065,  0.03493078, -0.0746958 ,  0.00278033,  0.01283498,\n",
       "         -0.00353406, -0.01762018,  0.00401253, -0.05382612, -0.05241482,\n",
       "         -0.04540458,  0.01543832, -0.01846123, -0.09937193, -0.03855273,\n",
       "         -0.08244191,  0.01535595,  0.10149082, -0.00562722, -0.02894404,\n",
       "         -0.00458932,  0.05019092, -0.03593441, -0.0013279 ,  0.01465515,\n",
       "         -0.08370571,  0.0103252 , -0.06193291, -0.04391513, -0.06294978,\n",
       "         -0.04065014,  0.00570043,  0.02147479, -0.02792545,  0.04353395,\n",
       "         -0.0359487 , -0.00271626,  0.06704609,  0.0576009 ,  0.02710468,\n",
       "         -0.04763749, -0.06167659,  0.00023275,  0.04728151,  0.01532686,\n",
       "          0.09442481, -0.05874278,  0.05562973, -0.03839511,  0.06617694,\n",
       "         -0.02385925, -0.07947739,  0.02916295, -0.05130297, -0.07759573,\n",
       "         -0.01718344,  0.00591166, -0.03223325, -0.00894812,  0.08197228,\n",
       "         -0.017606  , -0.02009691, -0.02459732,  0.01515542,  0.00896728,\n",
       "          0.081209  , -0.00669466,  0.07514095,  0.07625957,  0.00098852,\n",
       "         -0.02252438,  0.06209961,  0.00483144, -0.02535601, -0.03743386,\n",
       "          0.00766449,  0.03487705,  0.0089909 ,  0.02059075, -0.0128507 ,\n",
       "         -0.02361861, -0.00823225,  0.01045486, -0.01663719,  0.02004233,\n",
       "         -0.00418521,  0.01714399, -0.06525464, -0.08057892,  0.05379033,\n",
       "         -0.03842118,  0.06535814,  0.02652429,  0.00587355, -0.04672162,\n",
       "         -0.10999852,  0.07417723, -0.05316636, -0.05326442, -0.07127094,\n",
       "          0.01371602, -0.05073582, -0.05563077,  0.0819264 , -0.0163206 ,\n",
       "         -0.05951114,  0.03334766, -0.04024561, -0.11116804, -0.03669759,\n",
       "          0.062209  ,  0.0492444 ,  0.04412546],\n",
       "        [ 0.0687781 , -0.00427595,  0.04644652,  0.03158025,  0.05198212,\n",
       "         -0.01413136,  0.06006196, -0.009215  ,  0.03396379, -0.03398064,\n",
       "         -0.02319702,  0.0808938 , -0.05680707,  0.04901843, -0.02922792,\n",
       "          0.05148952,  0.00415599, -0.03025389,  0.05739661, -0.06990293,\n",
       "         -0.1060766 , -0.01478485,  0.01294588, -0.01053164,  0.04811647,\n",
       "         -0.04489525, -0.04242741,  0.00568648, -0.00256071, -0.06198664,\n",
       "          0.00606442, -0.01180506, -0.05125616, -0.09841598,  0.04615524,\n",
       "         -0.07208171, -0.02691069,  0.01131275, -0.018962  , -0.03582019,\n",
       "          0.0225179 , -0.07495311, -0.02858382, -0.00942655,  0.01314411,\n",
       "         -0.03152107,  0.0280466 ,  0.06918792, -0.0251607 , -0.06644885,\n",
       "          0.01403636,  0.05965802,  0.02161279,  0.00830296,  0.06714465,\n",
       "         -0.1066766 , -0.03191674, -0.04336825, -0.08731167,  0.04765648,\n",
       "         -0.00438641, -0.05040931,  0.02413642, -0.09697128, -0.00205622,\n",
       "          0.02528531,  0.01721144,  0.0137667 , -0.00963011,  0.06354953,\n",
       "         -0.03096328, -0.02139837, -0.02422162, -0.05715453, -0.02275825,\n",
       "          0.00684698,  0.00742307, -0.0597865 ,  0.01331968,  0.05007777,\n",
       "          0.11286499, -0.0370631 ,  0.00222982, -0.04484547, -0.11632772,\n",
       "          0.03640207,  0.06607809, -0.02578296,  0.03086932,  0.03679962,\n",
       "         -0.01143092, -0.01500766, -0.00694059, -0.00866426,  0.05140394,\n",
       "          0.02529946,  0.02124993,  0.06861759,  0.04917078,  0.0638501 ,\n",
       "         -0.03147018,  0.01984653,  0.02094579, -0.03399006, -0.06088408,\n",
       "         -0.04671017, -0.02157369,  0.032607  , -0.03751622,  0.0171845 ,\n",
       "         -0.11287054,  0.08571556,  0.0679915 , -0.05735626, -0.05248129,\n",
       "         -0.07816658,  0.04634073, -0.0001705 , -0.0222506 ,  0.02316704,\n",
       "         -0.10880279, -0.03686673, -0.00381521,  0.04382401, -0.05166094,\n",
       "         -0.14125869, -0.00410321,  0.06440962],\n",
       "        [-0.01724507, -0.02535981, -0.00574377, -0.03855814,  0.04653817,\n",
       "          0.00751881, -0.00684041, -0.00480239,  0.11967044, -0.0197023 ,\n",
       "         -0.03807012, -0.02161137, -0.06645728,  0.03911183,  0.02144326,\n",
       "          0.01192065,  0.04793237,  0.00790417, -0.01050036,  0.00485557,\n",
       "         -0.02981337, -0.10539278,  0.01065125,  0.05854559,  0.0312329 ,\n",
       "          0.02837141,  0.13748336, -0.07142952, -0.13213353,  0.01054706,\n",
       "         -0.01596406, -0.00709863,  0.03275791, -0.01956799, -0.04444401,\n",
       "         -0.03900023, -0.02008697,  0.03979544, -0.06797191,  0.08726791,\n",
       "          0.11106405,  0.00540837,  0.06063667, -0.03907236, -0.02690415,\n",
       "         -0.02123617,  0.01871462,  0.05793596,  0.07655618,  0.04501833,\n",
       "          0.03495054, -0.01377103,  0.00347707, -0.0716046 ,  0.00490594,\n",
       "          0.00464364,  0.00533847, -0.0959528 ,  0.05401715,  0.10709902,\n",
       "          0.01186131, -0.00849661, -0.0809335 ,  0.00661776,  0.10509242,\n",
       "          0.02109238,  0.00332281,  0.02264383, -0.0093644 , -0.02566164,\n",
       "         -0.04051591,  0.00739795,  0.09441353, -0.03852562,  0.00864073,\n",
       "         -0.07701967,  0.04486212, -0.0338125 ,  0.00449973, -0.05270901,\n",
       "         -0.04470458, -0.053092  ,  0.04096265,  0.00032121, -0.01532256,\n",
       "         -0.08410168, -0.02239909,  0.03477085, -0.02389587, -0.03649804,\n",
       "          0.02439445,  0.07872036,  0.08873954,  0.00797241, -0.03299594,\n",
       "         -0.03160626,  0.0144373 , -0.0695139 ,  0.00819981,  0.01651494,\n",
       "          0.02478297,  0.0079282 , -0.03020301,  0.01289238, -0.01333733,\n",
       "          0.02418987, -0.03956033,  0.06584852, -0.01156198,  0.03924414,\n",
       "          0.15356208,  0.04682393,  0.04623483,  0.06649841,  0.03155137,\n",
       "          0.05524361,  0.02236378,  0.03705123, -0.0286723 ,  0.0492654 ,\n",
       "          0.06993245, -0.04347588, -0.01545917, -0.0575732 , -0.02524922,\n",
       "         -0.01484081,  0.05534022, -0.03026608],\n",
       "        [ 0.03329881,  0.01467618,  0.01130334,  0.04054561, -0.00572944,\n",
       "         -0.04286563, -0.05870185,  0.02611049, -0.071528  , -0.00610917,\n",
       "         -0.02424148,  0.05191541,  0.03702871, -0.00154338, -0.0650138 ,\n",
       "          0.09815621, -0.02535759, -0.04989779, -0.01472053, -0.07466929,\n",
       "          0.01271578,  0.01423682,  0.01898704, -0.04444761, -0.0286799 ,\n",
       "         -0.01456317, -0.04215459,  0.00253772,  0.00232146,  0.02326324,\n",
       "          0.12182724, -0.01879905, -0.04859522,  0.00646048, -0.03133541,\n",
       "          0.01225171,  0.04392258, -0.0112621 , -0.02424836,  0.14337012,\n",
       "          0.0221397 , -0.05368341,  0.06633674,  0.0687603 ,  0.04463633,\n",
       "          0.07363172, -0.04174758,  0.02419054,  0.01169747,  0.06496999,\n",
       "         -0.02374989,  0.01825186,  0.02711964,  0.04583508,  0.05618851,\n",
       "         -0.08869343, -0.04082998,  0.07243039, -0.05812785, -0.030781  ,\n",
       "         -0.03429752,  0.00998429,  0.00547919, -0.10942423, -0.00802724,\n",
       "          0.01417296, -0.03194184,  0.01771354,  0.03404657, -0.01215977,\n",
       "         -0.01638103,  0.0045959 ,  0.01469787, -0.04379497,  0.02367954,\n",
       "         -0.02797543,  0.0122141 ,  0.02830656,  0.07277527,  0.0742025 ,\n",
       "          0.06656212, -0.03004879, -0.02759209,  0.016612  , -0.00114437,\n",
       "          0.01548727,  0.00323674, -0.0241569 ,  0.07671969,  0.06958367,\n",
       "         -0.00099701, -0.06297875,  0.02986849, -0.00073328, -0.11603683,\n",
       "          0.03875533, -0.00322028, -0.04086801, -0.01169323,  0.01962764,\n",
       "          0.01461086,  0.0635284 ,  0.05188403, -0.02094302, -0.0099638 ,\n",
       "         -0.08768597,  0.03105395, -0.00699945,  0.01420081,  0.04152506,\n",
       "          0.00154328, -0.05092571, -0.08952583, -0.05818672,  0.04528853,\n",
       "         -0.04649469,  0.03328701,  0.01420757,  0.0695885 ,  0.03238069,\n",
       "          0.03791521,  0.00926948, -0.02878377,  0.03323167,  0.06451676,\n",
       "         -0.07057007, -0.05655316, -0.056857  ]], dtype=float32)>,\n",
       " <tf.Variable 'dense_60/bias:0' shape=(128,) dtype=float32, numpy=\n",
       " array([0., 0., 0., 0., 0., 0., 0., 0., 0., 0., 0., 0., 0., 0., 0., 0., 0.,\n",
       "        0., 0., 0., 0., 0., 0., 0., 0., 0., 0., 0., 0., 0., 0., 0., 0., 0.,\n",
       "        0., 0., 0., 0., 0., 0., 0., 0., 0., 0., 0., 0., 0., 0., 0., 0., 0.,\n",
       "        0., 0., 0., 0., 0., 0., 0., 0., 0., 0., 0., 0., 0., 0., 0., 0., 0.,\n",
       "        0., 0., 0., 0., 0., 0., 0., 0., 0., 0., 0., 0., 0., 0., 0., 0., 0.,\n",
       "        0., 0., 0., 0., 0., 0., 0., 0., 0., 0., 0., 0., 0., 0., 0., 0., 0.,\n",
       "        0., 0., 0., 0., 0., 0., 0., 0., 0., 0., 0., 0., 0., 0., 0., 0., 0.,\n",
       "        0., 0., 0., 0., 0., 0., 0., 0., 0.], dtype=float32)>,\n",
       " <tf.Variable 'dense_61/kernel:0' shape=(128, 512) dtype=float32, numpy=\n",
       " array([[-0.01082673,  0.07111229,  0.01237733, ...,  0.03333917,\n",
       "          0.0448267 , -0.00227776],\n",
       "        [ 0.0070488 , -0.05375055, -0.00963449, ...,  0.05891634,\n",
       "         -0.03460826, -0.05872112],\n",
       "        [ 0.08440971,  0.13187918,  0.05168728, ...,  0.06685063,\n",
       "          0.06772836,  0.05987559],\n",
       "        ...,\n",
       "        [-0.00073519, -0.05519908, -0.05873933, ...,  0.02561202,\n",
       "          0.01051067, -0.05281444],\n",
       "        [-0.0766081 ,  0.00710879,  0.00546828, ...,  0.00523647,\n",
       "         -0.03620839, -0.0278959 ],\n",
       "        [ 0.01100433,  0.0163527 , -0.08510017, ..., -0.08680185,\n",
       "         -0.0413887 ,  0.05736352]], dtype=float32)>,\n",
       " <tf.Variable 'dense_61/bias:0' shape=(512,) dtype=float32, numpy=\n",
       " array([0., 0., 0., 0., 0., 0., 0., 0., 0., 0., 0., 0., 0., 0., 0., 0., 0.,\n",
       "        0., 0., 0., 0., 0., 0., 0., 0., 0., 0., 0., 0., 0., 0., 0., 0., 0.,\n",
       "        0., 0., 0., 0., 0., 0., 0., 0., 0., 0., 0., 0., 0., 0., 0., 0., 0.,\n",
       "        0., 0., 0., 0., 0., 0., 0., 0., 0., 0., 0., 0., 0., 0., 0., 0., 0.,\n",
       "        0., 0., 0., 0., 0., 0., 0., 0., 0., 0., 0., 0., 0., 0., 0., 0., 0.,\n",
       "        0., 0., 0., 0., 0., 0., 0., 0., 0., 0., 0., 0., 0., 0., 0., 0., 0.,\n",
       "        0., 0., 0., 0., 0., 0., 0., 0., 0., 0., 0., 0., 0., 0., 0., 0., 0.,\n",
       "        0., 0., 0., 0., 0., 0., 0., 0., 0., 0., 0., 0., 0., 0., 0., 0., 0.,\n",
       "        0., 0., 0., 0., 0., 0., 0., 0., 0., 0., 0., 0., 0., 0., 0., 0., 0.,\n",
       "        0., 0., 0., 0., 0., 0., 0., 0., 0., 0., 0., 0., 0., 0., 0., 0., 0.,\n",
       "        0., 0., 0., 0., 0., 0., 0., 0., 0., 0., 0., 0., 0., 0., 0., 0., 0.,\n",
       "        0., 0., 0., 0., 0., 0., 0., 0., 0., 0., 0., 0., 0., 0., 0., 0., 0.,\n",
       "        0., 0., 0., 0., 0., 0., 0., 0., 0., 0., 0., 0., 0., 0., 0., 0., 0.,\n",
       "        0., 0., 0., 0., 0., 0., 0., 0., 0., 0., 0., 0., 0., 0., 0., 0., 0.,\n",
       "        0., 0., 0., 0., 0., 0., 0., 0., 0., 0., 0., 0., 0., 0., 0., 0., 0.,\n",
       "        0., 0., 0., 0., 0., 0., 0., 0., 0., 0., 0., 0., 0., 0., 0., 0., 0.,\n",
       "        0., 0., 0., 0., 0., 0., 0., 0., 0., 0., 0., 0., 0., 0., 0., 0., 0.,\n",
       "        0., 0., 0., 0., 0., 0., 0., 0., 0., 0., 0., 0., 0., 0., 0., 0., 0.,\n",
       "        0., 0., 0., 0., 0., 0., 0., 0., 0., 0., 0., 0., 0., 0., 0., 0., 0.,\n",
       "        0., 0., 0., 0., 0., 0., 0., 0., 0., 0., 0., 0., 0., 0., 0., 0., 0.,\n",
       "        0., 0., 0., 0., 0., 0., 0., 0., 0., 0., 0., 0., 0., 0., 0., 0., 0.,\n",
       "        0., 0., 0., 0., 0., 0., 0., 0., 0., 0., 0., 0., 0., 0., 0., 0., 0.,\n",
       "        0., 0., 0., 0., 0., 0., 0., 0., 0., 0., 0., 0., 0., 0., 0., 0., 0.,\n",
       "        0., 0., 0., 0., 0., 0., 0., 0., 0., 0., 0., 0., 0., 0., 0., 0., 0.,\n",
       "        0., 0., 0., 0., 0., 0., 0., 0., 0., 0., 0., 0., 0., 0., 0., 0., 0.,\n",
       "        0., 0., 0., 0., 0., 0., 0., 0., 0., 0., 0., 0., 0., 0., 0., 0., 0.,\n",
       "        0., 0., 0., 0., 0., 0., 0., 0., 0., 0., 0., 0., 0., 0., 0., 0., 0.,\n",
       "        0., 0., 0., 0., 0., 0., 0., 0., 0., 0., 0., 0., 0., 0., 0., 0., 0.,\n",
       "        0., 0., 0., 0., 0., 0., 0., 0., 0., 0., 0., 0., 0., 0., 0., 0., 0.,\n",
       "        0., 0., 0., 0., 0., 0., 0., 0., 0., 0., 0., 0., 0., 0., 0., 0., 0.,\n",
       "        0., 0.], dtype=float32)>,\n",
       " <tf.Variable 'dense_62/kernel:0' shape=(512, 256) dtype=float32, numpy=\n",
       " array([[ 0.04046595,  0.00092142,  0.08578085, ...,  0.06504333,\n",
       "          0.02120992,  0.04045848],\n",
       "        [-0.00496253,  0.00364009,  0.01549763, ..., -0.03139883,\n",
       "          0.1063294 ,  0.0558554 ],\n",
       "        [-0.05007322,  0.00485025, -0.00754739, ...,  0.1158999 ,\n",
       "         -0.00087702, -0.05410561],\n",
       "        ...,\n",
       "        [ 0.14055395, -0.09015343, -0.02137636, ..., -0.00678752,\n",
       "         -0.00184848,  0.02133855],\n",
       "        [ 0.10236514, -0.02940252,  0.00316625, ..., -0.01070176,\n",
       "         -0.03460782,  0.02637168],\n",
       "        [ 0.05992396,  0.05538005,  0.04544885, ..., -0.03831993,\n",
       "          0.02005709,  0.01729427]], dtype=float32)>,\n",
       " <tf.Variable 'dense_62/bias:0' shape=(256,) dtype=float32, numpy=\n",
       " array([0., 0., 0., 0., 0., 0., 0., 0., 0., 0., 0., 0., 0., 0., 0., 0., 0.,\n",
       "        0., 0., 0., 0., 0., 0., 0., 0., 0., 0., 0., 0., 0., 0., 0., 0., 0.,\n",
       "        0., 0., 0., 0., 0., 0., 0., 0., 0., 0., 0., 0., 0., 0., 0., 0., 0.,\n",
       "        0., 0., 0., 0., 0., 0., 0., 0., 0., 0., 0., 0., 0., 0., 0., 0., 0.,\n",
       "        0., 0., 0., 0., 0., 0., 0., 0., 0., 0., 0., 0., 0., 0., 0., 0., 0.,\n",
       "        0., 0., 0., 0., 0., 0., 0., 0., 0., 0., 0., 0., 0., 0., 0., 0., 0.,\n",
       "        0., 0., 0., 0., 0., 0., 0., 0., 0., 0., 0., 0., 0., 0., 0., 0., 0.,\n",
       "        0., 0., 0., 0., 0., 0., 0., 0., 0., 0., 0., 0., 0., 0., 0., 0., 0.,\n",
       "        0., 0., 0., 0., 0., 0., 0., 0., 0., 0., 0., 0., 0., 0., 0., 0., 0.,\n",
       "        0., 0., 0., 0., 0., 0., 0., 0., 0., 0., 0., 0., 0., 0., 0., 0., 0.,\n",
       "        0., 0., 0., 0., 0., 0., 0., 0., 0., 0., 0., 0., 0., 0., 0., 0., 0.,\n",
       "        0., 0., 0., 0., 0., 0., 0., 0., 0., 0., 0., 0., 0., 0., 0., 0., 0.,\n",
       "        0., 0., 0., 0., 0., 0., 0., 0., 0., 0., 0., 0., 0., 0., 0., 0., 0.,\n",
       "        0., 0., 0., 0., 0., 0., 0., 0., 0., 0., 0., 0., 0., 0., 0., 0., 0.,\n",
       "        0., 0., 0., 0., 0., 0., 0., 0., 0., 0., 0., 0., 0., 0., 0., 0., 0.,\n",
       "        0.], dtype=float32)>,\n",
       " <tf.Variable 'dense_63/kernel:0' shape=(256, 1) dtype=float32, numpy=\n",
       " array([[-0.08562773],\n",
       "        [-0.04710633],\n",
       "        [-0.07625093],\n",
       "        [-0.0720034 ],\n",
       "        [-0.01337384],\n",
       "        [-0.09284773],\n",
       "        [ 0.11579199],\n",
       "        [ 0.04790278],\n",
       "        [-0.150143  ],\n",
       "        [-0.12490929],\n",
       "        [-0.12098211],\n",
       "        [ 0.1288568 ],\n",
       "        [-0.02447811],\n",
       "        [ 0.01346217],\n",
       "        [ 0.1199268 ],\n",
       "        [-0.12469694],\n",
       "        [-0.03675914],\n",
       "        [-0.13034907],\n",
       "        [ 0.00464356],\n",
       "        [ 0.13723882],\n",
       "        [-0.11395642],\n",
       "        [-0.08198306],\n",
       "        [ 0.0909902 ],\n",
       "        [-0.07529598],\n",
       "        [ 0.14188553],\n",
       "        [ 0.05327106],\n",
       "        [ 0.08979453],\n",
       "        [-0.11142434],\n",
       "        [-0.10640149],\n",
       "        [-0.13363098],\n",
       "        [ 0.01071145],\n",
       "        [-0.0313689 ],\n",
       "        [ 0.11558427],\n",
       "        [ 0.12958254],\n",
       "        [ 0.0309217 ],\n",
       "        [-0.14654045],\n",
       "        [-0.09640037],\n",
       "        [-0.08352511],\n",
       "        [-0.11965603],\n",
       "        [ 0.02268218],\n",
       "        [ 0.04241538],\n",
       "        [-0.07217596],\n",
       "        [ 0.03411806],\n",
       "        [-0.15199627],\n",
       "        [ 0.13820805],\n",
       "        [-0.10629282],\n",
       "        [-0.10365309],\n",
       "        [-0.13285875],\n",
       "        [ 0.05730125],\n",
       "        [-0.09517967],\n",
       "        [ 0.02866793],\n",
       "        [-0.1477633 ],\n",
       "        [ 0.11650391],\n",
       "        [ 0.04158108],\n",
       "        [-0.0612984 ],\n",
       "        [-0.13275817],\n",
       "        [ 0.07901183],\n",
       "        [-0.01562159],\n",
       "        [-0.10897139],\n",
       "        [-0.09020516],\n",
       "        [ 0.10317867],\n",
       "        [-0.14578006],\n",
       "        [-0.04682849],\n",
       "        [-0.04816318],\n",
       "        [-0.11829619],\n",
       "        [ 0.03393136],\n",
       "        [-0.07871376],\n",
       "        [-0.14143512],\n",
       "        [-0.07291333],\n",
       "        [ 0.00511388],\n",
       "        [-0.09129876],\n",
       "        [-0.06409674],\n",
       "        [-0.10217191],\n",
       "        [-0.03465655],\n",
       "        [ 0.12028866],\n",
       "        [ 0.09074175],\n",
       "        [-0.05833901],\n",
       "        [-0.01411448],\n",
       "        [ 0.05275543],\n",
       "        [ 0.09436351],\n",
       "        [ 0.09314626],\n",
       "        [ 0.12162797],\n",
       "        [-0.01782168],\n",
       "        [ 0.06901494],\n",
       "        [ 0.08176598],\n",
       "        [ 0.04315621],\n",
       "        [-0.14956133],\n",
       "        [ 0.14818959],\n",
       "        [ 0.1475154 ],\n",
       "        [-0.05506159],\n",
       "        [ 0.08140711],\n",
       "        [-0.09566914],\n",
       "        [ 0.00992057],\n",
       "        [-0.06352652],\n",
       "        [-0.11371264],\n",
       "        [-0.01506786],\n",
       "        [-0.10145864],\n",
       "        [ 0.07927775],\n",
       "        [ 0.10025661],\n",
       "        [-0.11429146],\n",
       "        [ 0.09175321],\n",
       "        [-0.04251666],\n",
       "        [ 0.04856688],\n",
       "        [ 0.01098612],\n",
       "        [-0.08112329],\n",
       "        [ 0.14716826],\n",
       "        [-0.0285754 ],\n",
       "        [-0.00666137],\n",
       "        [-0.03317232],\n",
       "        [-0.12403779],\n",
       "        [ 0.0857549 ],\n",
       "        [-0.14574856],\n",
       "        [-0.09431776],\n",
       "        [ 0.06824763],\n",
       "        [-0.02471307],\n",
       "        [ 0.14018811],\n",
       "        [ 0.12204467],\n",
       "        [-0.14258443],\n",
       "        [-0.00207402],\n",
       "        [ 0.12648095],\n",
       "        [ 0.09078144],\n",
       "        [ 0.14569233],\n",
       "        [ 0.07697369],\n",
       "        [-0.09346673],\n",
       "        [-0.10100126],\n",
       "        [ 0.05074531],\n",
       "        [ 0.15137146],\n",
       "        [ 0.09481986],\n",
       "        [ 0.06206144],\n",
       "        [ 0.09414537],\n",
       "        [-0.07464178],\n",
       "        [-0.04808857],\n",
       "        [ 0.12334917],\n",
       "        [-0.11484712],\n",
       "        [ 0.14476754],\n",
       "        [-0.12860414],\n",
       "        [ 0.09750877],\n",
       "        [-0.04368982],\n",
       "        [ 0.03736174],\n",
       "        [ 0.00748867],\n",
       "        [-0.14374928],\n",
       "        [ 0.01465225],\n",
       "        [-0.08287761],\n",
       "        [-0.10091533],\n",
       "        [ 0.08365542],\n",
       "        [-0.01818715],\n",
       "        [-0.06295469],\n",
       "        [-0.02646153],\n",
       "        [ 0.13340615],\n",
       "        [ 0.08386458],\n",
       "        [-0.0414813 ],\n",
       "        [-0.14452614],\n",
       "        [-0.14263648],\n",
       "        [-0.10861751],\n",
       "        [-0.01493762],\n",
       "        [ 0.07991986],\n",
       "        [-0.14586961],\n",
       "        [-0.15126528],\n",
       "        [ 0.14439361],\n",
       "        [-0.0981524 ],\n",
       "        [ 0.11198957],\n",
       "        [ 0.13639162],\n",
       "        [ 0.14764689],\n",
       "        [ 0.00976983],\n",
       "        [ 0.11433111],\n",
       "        [-0.08187359],\n",
       "        [-0.07353076],\n",
       "        [-0.01569594],\n",
       "        [-0.07725018],\n",
       "        [-0.12924312],\n",
       "        [-0.13312013],\n",
       "        [-0.08457787],\n",
       "        [ 0.12286855],\n",
       "        [-0.10270645],\n",
       "        [-0.05204058],\n",
       "        [-0.06590199],\n",
       "        [-0.03285131],\n",
       "        [-0.03310653],\n",
       "        [ 0.04068923],\n",
       "        [ 0.08973777],\n",
       "        [ 0.03286059],\n",
       "        [-0.07673675],\n",
       "        [-0.05185771],\n",
       "        [-0.08500191],\n",
       "        [-0.04136691],\n",
       "        [-0.12125956],\n",
       "        [-0.00698842],\n",
       "        [ 0.07780416],\n",
       "        [-0.02065286],\n",
       "        [ 0.05050816],\n",
       "        [ 0.03245462],\n",
       "        [-0.01260795],\n",
       "        [-0.05555716],\n",
       "        [ 0.04462536],\n",
       "        [ 0.00071244],\n",
       "        [ 0.03288139],\n",
       "        [-0.06832653],\n",
       "        [-0.08752907],\n",
       "        [-0.12526545],\n",
       "        [-0.08437871],\n",
       "        [ 0.00115123],\n",
       "        [-0.0147481 ],\n",
       "        [-0.04972591],\n",
       "        [ 0.00895385],\n",
       "        [-0.01645848],\n",
       "        [ 0.00347473],\n",
       "        [ 0.11255743],\n",
       "        [ 0.04036078],\n",
       "        [ 0.01519527],\n",
       "        [-0.06684522],\n",
       "        [-0.10177822],\n",
       "        [-0.05649959],\n",
       "        [ 0.13110118],\n",
       "        [-0.01462634],\n",
       "        [-0.07703809],\n",
       "        [ 0.11460708],\n",
       "        [-0.05530508],\n",
       "        [ 0.0331167 ],\n",
       "        [ 0.05174477],\n",
       "        [-0.11794148],\n",
       "        [-0.09767598],\n",
       "        [ 0.11699392],\n",
       "        [-0.09052125],\n",
       "        [-0.06985474],\n",
       "        [ 0.01275039],\n",
       "        [ 0.06418195],\n",
       "        [ 0.14983402],\n",
       "        [ 0.07107814],\n",
       "        [ 0.05377211],\n",
       "        [ 0.01512676],\n",
       "        [ 0.02154902],\n",
       "        [ 0.08912303],\n",
       "        [-0.04589568],\n",
       "        [ 0.09703662],\n",
       "        [-0.14381129],\n",
       "        [-0.05300301],\n",
       "        [-0.12375779],\n",
       "        [ 0.14649133],\n",
       "        [ 0.02134974],\n",
       "        [-0.00343151],\n",
       "        [-0.13858628],\n",
       "        [-0.13398612],\n",
       "        [-0.08658064],\n",
       "        [-0.12375299],\n",
       "        [ 0.07155827],\n",
       "        [-0.13978732],\n",
       "        [-0.14513162],\n",
       "        [ 0.03663445],\n",
       "        [ 0.05274597],\n",
       "        [ 0.14828451],\n",
       "        [ 0.04352982],\n",
       "        [-0.04091617],\n",
       "        [ 0.10215418],\n",
       "        [-0.1033908 ],\n",
       "        [-0.03209646],\n",
       "        [-0.09876662]], dtype=float32)>,\n",
       " <tf.Variable 'dense_63/bias:0' shape=(1,) dtype=float32, numpy=array([0.], dtype=float32)>]"
      ]
     },
     "execution_count": 49,
     "metadata": {},
     "output_type": "execute_result"
    }
   ],
   "source": [
    "model_sgd = Sequential()\n",
    "\n",
    "model_sgd.add(Dense(128, kernel_initializer='normal', input_dim = all_mags.shape[1], activation='relu'))\n",
    "model_sgd.add(Dense(512, kernel_initializer='normal', activation='relu'))\n",
    "model_sgd.add(Dense(256, kernel_initializer='normal', activation='relu'))\n",
    "model_sgd.add(Dense(1,activation='linear'))\n",
    "\n",
    "model_sgd.summary()"
   ]
  },
  {
   "cell_type": "code",
   "execution_count": 50,
   "id": "5ca8e2d7-6c91-4731-9c53-71f00e6970df",
   "metadata": {},
   "outputs": [
    {
     "name": "stdout",
     "output_type": "stream",
     "text": [
      "Epoch 1/15\n",
      "4089/4089 [==============================] - 9s 2ms/step - loss: 0.0111 - mean_squared_error: 0.0111 - val_loss: 9.2985e-04 - val_mean_squared_error: 9.2940e-04\n",
      "Epoch 2/15\n",
      "4089/4089 [==============================] - 9s 2ms/step - loss: 9.1043e-04 - mean_squared_error: 9.1039e-04 - val_loss: 8.3114e-04 - val_mean_squared_error: 8.3072e-04\n",
      "Epoch 3/15\n",
      "4089/4089 [==============================] - 9s 2ms/step - loss: 8.5563e-04 - mean_squared_error: 8.5551e-04 - val_loss: 8.6956e-04 - val_mean_squared_error: 8.6941e-04\n",
      "Epoch 4/15\n",
      "4089/4089 [==============================] - 9s 2ms/step - loss: 8.2796e-04 - mean_squared_error: 8.2802e-04 - val_loss: 8.6266e-04 - val_mean_squared_error: 8.6249e-04\n",
      "Epoch 5/15\n",
      "4089/4089 [==============================] - 10s 3ms/step - loss: 8.1186e-04 - mean_squared_error: 8.1183e-04 - val_loss: 7.8839e-04 - val_mean_squared_error: 7.8791e-04\n",
      "Epoch 6/15\n",
      "4089/4089 [==============================] - 10s 3ms/step - loss: 8.0211e-04 - mean_squared_error: 8.0228e-04 - val_loss: 7.9372e-04 - val_mean_squared_error: 7.9344e-04\n",
      "Epoch 7/15\n",
      "4089/4089 [==============================] - 9s 2ms/step - loss: 7.9131e-04 - mean_squared_error: 7.9124e-04 - val_loss: 7.7348e-04 - val_mean_squared_error: 7.7312e-04\n",
      "Epoch 8/15\n",
      "4089/4089 [==============================] - 9s 2ms/step - loss: 7.8163e-04 - mean_squared_error: 7.8166e-04 - val_loss: 7.6585e-04 - val_mean_squared_error: 7.6548e-04\n",
      "Epoch 9/15\n",
      "4089/4089 [==============================] - 11s 3ms/step - loss: 7.7474e-04 - mean_squared_error: 7.7469e-04 - val_loss: 7.5997e-04 - val_mean_squared_error: 7.5957e-04\n",
      "Epoch 10/15\n",
      "4089/4089 [==============================] - 9s 2ms/step - loss: 7.6929e-04 - mean_squared_error: 7.6916e-04 - val_loss: 7.6044e-04 - val_mean_squared_error: 7.5996e-04\n",
      "Epoch 11/15\n",
      "4089/4089 [==============================] - 9s 2ms/step - loss: 7.6627e-04 - mean_squared_error: 7.6628e-04 - val_loss: 7.5431e-04 - val_mean_squared_error: 7.5388e-04\n",
      "Epoch 12/15\n",
      "4089/4089 [==============================] - 9s 2ms/step - loss: 7.6174e-04 - mean_squared_error: 7.6179e-04 - val_loss: 7.8122e-04 - val_mean_squared_error: 7.8065e-04\n",
      "Epoch 13/15\n",
      "4089/4089 [==============================] - 9s 2ms/step - loss: 7.5804e-04 - mean_squared_error: 7.5801e-04 - val_loss: 7.8107e-04 - val_mean_squared_error: 7.8050e-04\n",
      "Epoch 14/15\n",
      "4089/4089 [==============================] - 9s 2ms/step - loss: 7.5493e-04 - mean_squared_error: 7.5484e-04 - val_loss: 7.7892e-04 - val_mean_squared_error: 7.7866e-04\n"
     ]
    }
   ],
   "source": [
    "model_sgd.compile(\n",
    "    loss=MeanSquaredError(),\n",
    "    optimizer=sgd,\n",
    "    metrics=[MeanSquaredError()]\n",
    ")\n",
    "\n",
    "history_sgd = model_sgd.fit(\n",
    "    x_train,\n",
    "    y_train,\n",
    "    epochs=15,\n",
    "    validation_split=0.2,\n",
    "    callbacks=[callback]\n",
    ")"
   ]
  },
  {
   "cell_type": "code",
   "execution_count": 51,
   "id": "bff7b9c1-eb7b-48f0-a5b5-eeab8cd49534",
   "metadata": {},
   "outputs": [
    {
     "data": {
      "image/png": "[encoded data removed]",
      "text/plain": [
       "<Figure size 640x480 with 1 Axes>"
      ]
     },
     "metadata": {},
     "output_type": "display_data"
    }
   ],
   "source": [
    "plt.plot(history_sgd.history['mean_squared_error'])\n",
    "plt.plot(history_sgd.history['val_mean_squared_error'])\n",
    "plt.xlabel('epochs')\n",
    "plt.ylabel('MSE')\n",
    "plt.legend(['MSE', 'Val_MSE'])\n",
    "plt.show()"
   ]
  },
  {
   "cell_type": "code",
   "execution_count": 52,
   "id": "387afe32-5878-4cd4-8c73-529f8aed906f",
   "metadata": {},
   "outputs": [
    {
     "name": "stdout",
     "output_type": "stream",
     "text": [
      "3407/3407 [==============================] - 2s 626us/step\n"
     ]
    },
    {
     "data": {
      "text/plain": [
       "0.000755338602389781"
      ]
     },
     "execution_count": 52,
     "metadata": {},
     "output_type": "execute_result"
    }
   ],
   "source": [
    "preds_sgd = model_sgd.predict(x_test)\n",
    "mean_squared_error(y_test, preds_sgd)"
   ]
  },
  {
   "cell_type": "markdown",
   "id": "8bd92f3f-f13f-479a-a2c2-fd2e70afaefe",
   "metadata": {},
   "source": [
    "### Applying a Custom Learning Rate <a id=\"clr\"></a>"
   ]
  },
  {
   "cell_type": "code",
   "execution_count": 69,
   "id": "eddf6384-fb86-407c-bbf6-9effd413f459",
   "metadata": {},
   "outputs": [],
   "source": [
    "def scheduler(epoch, lr):\n",
    "    return lr*np.exp(-0.05*epoch)\n",
    "\n",
    "callbacks = [LearningRateScheduler(scheduler)]"
   ]
  },
  {
   "cell_type": "code",
   "execution_count": 70,
   "id": "3c782e16-2938-414b-a665-4f76632e987f",
   "metadata": {},
   "outputs": [
    {
     "name": "stdout",
     "output_type": "stream",
     "text": [
      "Model: \"sequential_21\"\n",
      "_________________________________________________________________\n",
      " Layer (type)                Output Shape              Param #   \n",
      "=================================================================\n",
      " dense_84 (Dense)            (None, 128)               896       \n",
      "                                                                 \n",
      " dense_85 (Dense)            (None, 512)               66048     \n",
      "                                                                 \n",
      " dense_86 (Dense)            (None, 256)               131328    \n",
      "                                                                 \n",
      " dense_87 (Dense)            (None, 1)                 257       \n",
      "                                                                 \n",
      "=================================================================\n",
      "Total params: 198,529\n",
      "Trainable params: 198,529\n",
      "Non-trainable params: 0\n",
      "_________________________________________________________________\n"
     ]
    }
   ],
   "source": [
    "model_lr = Sequential()\n",
    "\n",
    "model_lr.add(Dense(128, kernel_initializer='normal', input_dim = all_mags.shape[1], activation='relu'))\n",
    "model_lr.add(Dense(512, kernel_initializer='normal', activation='relu'))\n",
    "model_lr.add(Dense(256, kernel_initializer='normal', activation='relu'))\n",
    "model_lr.add(Dense(1,activation='linear'))\n",
    "\n",
    "model_lr.summary()"
   ]
  },
  {
   "cell_type": "code",
   "execution_count": 71,
   "id": "bece6c14-b432-45f5-992c-7c94e328736e",
   "metadata": {},
   "outputs": [
    {
     "name": "stdout",
     "output_type": "stream",
     "text": [
      "Epoch 1/15\n",
      "4089/4089 [==============================] - 9s 2ms/step - loss: 0.0177 - mean_squared_error: 0.0177 - val_loss: 0.0012 - val_mean_squared_error: 0.0012 - lr: 0.0100\n",
      "Epoch 2/15\n",
      "4089/4089 [==============================] - 8s 2ms/step - loss: 0.0012 - mean_squared_error: 0.0012 - val_loss: 0.0017 - val_mean_squared_error: 0.0017 - lr: 0.0095\n",
      "Epoch 3/15\n",
      "4089/4089 [==============================] - 9s 2ms/step - loss: 0.0010 - mean_squared_error: 0.0010 - val_loss: 9.0770e-04 - val_mean_squared_error: 9.0769e-04 - lr: 0.0086\n",
      "Epoch 4/15\n",
      "4089/4089 [==============================] - 8s 2ms/step - loss: 9.4519e-04 - mean_squared_error: 9.4523e-04 - val_loss: 9.1062e-04 - val_mean_squared_error: 9.1018e-04 - lr: 0.0074\n",
      "Epoch 5/15\n",
      "4089/4089 [==============================] - 8s 2ms/step - loss: 9.0304e-04 - mean_squared_error: 9.0305e-04 - val_loss: 8.7672e-04 - val_mean_squared_error: 8.7674e-04 - lr: 0.0061\n",
      "Epoch 6/15\n",
      "4089/4089 [==============================] - 7s 2ms/step - loss: 8.7631e-04 - mean_squared_error: 8.7671e-04 - val_loss: 0.0016 - val_mean_squared_error: 0.0016 - lr: 0.0047\n",
      "Epoch 7/15\n",
      "4089/4089 [==============================] - 8s 2ms/step - loss: 8.6043e-04 - mean_squared_error: 8.6039e-04 - val_loss: 8.4626e-04 - val_mean_squared_error: 8.4586e-04 - lr: 0.0035\n",
      "Epoch 8/15\n",
      "4089/4089 [==============================] - 10s 2ms/step - loss: 8.5001e-04 - mean_squared_error: 8.4986e-04 - val_loss: 8.3122e-04 - val_mean_squared_error: 8.3100e-04 - lr: 0.0025\n",
      "Epoch 9/15\n",
      "4089/4089 [==============================] - 9s 2ms/step - loss: 8.4399e-04 - mean_squared_error: 8.4426e-04 - val_loss: 8.3136e-04 - val_mean_squared_error: 8.3117e-04 - lr: 0.0017\n",
      "Epoch 10/15\n",
      "4089/4089 [==============================] - 8s 2ms/step - loss: 8.3935e-04 - mean_squared_error: 8.3931e-04 - val_loss: 8.2693e-04 - val_mean_squared_error: 8.2670e-04 - lr: 0.0011\n",
      "Epoch 11/15\n",
      "4089/4089 [==============================] - 9s 2ms/step - loss: 8.3710e-04 - mean_squared_error: 8.3759e-04 - val_loss: 8.2528e-04 - val_mean_squared_error: 8.2503e-04 - lr: 6.3928e-04\n",
      "Epoch 12/15\n",
      "4089/4089 [==============================] - 9s 2ms/step - loss: 8.3544e-04 - mean_squared_error: 8.3537e-04 - val_loss: 8.2756e-04 - val_mean_squared_error: 8.2736e-04 - lr: 3.6883e-04\n",
      "Epoch 13/15\n",
      "4089/4089 [==============================] - 8s 2ms/step - loss: 8.3454e-04 - mean_squared_error: 8.3487e-04 - val_loss: 8.2510e-04 - val_mean_squared_error: 8.2487e-04 - lr: 2.0242e-04\n",
      "Epoch 14/15\n",
      "4089/4089 [==============================] - 10s 2ms/step - loss: 8.3392e-04 - mean_squared_error: 8.3383e-04 - val_loss: 8.2338e-04 - val_mean_squared_error: 8.2310e-04 - lr: 1.0567e-04\n",
      "Epoch 15/15\n",
      "4089/4089 [==============================] - 9s 2ms/step - loss: 8.3376e-04 - mean_squared_error: 8.3362e-04 - val_loss: 8.2330e-04 - val_mean_squared_error: 8.2302e-04 - lr: 5.2475e-05\n"
     ]
    }
   ],
   "source": [
    "sgd2 = SGD()\n",
    "\n",
    "model_lr.compile(\n",
    "    loss=MeanSquaredError(),\n",
    "    optimizer=sgd2,\n",
    "    metrics=[MeanSquaredError()]\n",
    ")\n",
    "\n",
    "history_lr = model_lr.fit(\n",
    "    x_train,\n",
    "    y_train,\n",
    "    epochs=15,\n",
    "    validation_split=0.2,\n",
    "    callbacks=callbacks\n",
    ")"
   ]
  },
  {
   "cell_type": "code",
   "execution_count": 74,
   "id": "4398b918-eae7-44ad-a074-2b26c3095202",
   "metadata": {},
   "outputs": [
    {
     "data": {
      "image/png": "[encoded data removed]",
      "text/plain": [
       "<Figure size 640x480 with 1 Axes>"
      ]
     },
     "metadata": {},
     "output_type": "display_data"
    }
   ],
   "source": [
    "plt.plot(history_lr.history['mean_squared_error'])\n",
    "plt.plot(history_lr.history['val_mean_squared_error'])\n",
    "plt.plot(history_lr.history['lr'])\n",
    "plt.xlabel('epochs')\n",
    "plt.ylabel('MSE')\n",
    "plt.legend(['MSE', 'Val_MSE', 'Learning Rate'])\n",
    "plt.show()"
   ]
  },
  {
   "cell_type": "code",
   "execution_count": 75,
   "id": "980349d1-84d7-441c-bf3d-33ad39c45582",
   "metadata": {},
   "outputs": [
    {
     "name": "stdout",
     "output_type": "stream",
     "text": [
      "3407/3407 [==============================] - 3s 835us/step\n"
     ]
    },
    {
     "data": {
      "text/plain": [
       "0.0008330186039362599"
      ]
     },
     "execution_count": 75,
     "metadata": {},
     "output_type": "execute_result"
    }
   ],
   "source": [
    "preds_lr = model_lr.predict(x_test)\n",
    "mean_squared_error(y_test, preds_lr)"
   ]
  },
  {
   "cell_type": "markdown",
   "id": "be967f08-0a07-4917-bdb5-92c6948fcf2b",
   "metadata": {},
   "source": [
    "### Optimization/Tuning With Keras Tuner <a id=\"tuning\"></a>"
   ]
  },
  {
   "cell_type": "code",
   "execution_count": 15,
   "id": "d02fa749-5172-49a7-ae78-1945e9954ac6",
   "metadata": {},
   "outputs": [],
   "source": [
    "import keras_tuner as kt"
   ]
  },
  {
   "cell_type": "markdown",
   "id": "c904ffa8-c628-4f32-ab2e-5c6212e96d3b",
   "metadata": {},
   "source": [
    "Keras Tuner is quite versatile and can use several optimization techniques. Here, I will use Hyperband, though other options such as Baynesian Optimization are also easy to use (the API is very similar). I will use 2 hidden layers and tune the best number of units for each layer and the best learning rate. "
   ]
  },
  {
   "cell_type": "code",
   "execution_count": 19,
   "id": "14ee18a9-0649-4b6d-b7fc-6124bd197a09",
   "metadata": {},
   "outputs": [],
   "source": [
    "def model_builder(hp):\n",
    "    model = Sequential()\n",
    "\n",
    "    model.add(Dense(units=hp.Int('units', min_value=64, max_value=512, step=32), activation='relu'))\n",
    "    model.add(Dense(units=hp.Int('units2', min_value=64, max_value=512, step=32), activation='relu'))\n",
    "    model.add(Dense(1,activation='linear'))\n",
    "\n",
    "    hp_learning_rate = hp.Choice('learning_rate', values=[0.05, 1e-2, 0.005, 1e-3])\n",
    "\n",
    "    model.compile(\n",
    "    loss=MeanSquaredError(),\n",
    "    optimizer=Adam(learning_rate = hp_learning_rate),\n",
    "    metrics=[MeanSquaredError()]\n",
    "    )\n",
    "\n",
    "    return model    "
   ]
  },
  {
   "cell_type": "code",
   "execution_count": 23,
   "id": "af7736a6-1d3f-41f1-8577-aba1e5db2db8",
   "metadata": {},
   "outputs": [
    {
     "name": "stderr",
     "output_type": "stream",
     "text": [
      "WARNING:absl:At this time, the v2.11+ optimizer `tf.keras.optimizers.Adam` runs slowly on M1/M2 Macs, please use the legacy Keras optimizer instead, located at `tf.keras.optimizers.legacy.Adam`.\n",
      "WARNING:absl:There is a known slowdown when using v2.11+ Keras optimizers on M1/M2 Macs. Falling back to the legacy Keras optimizer, i.e., `tf.keras.optimizers.legacy.Adam`.\n"
     ]
    }
   ],
   "source": [
    "tuner_opt = kt.Hyperband(model_builder,\n",
    "                     objective='val_loss',\n",
    "                     max_epochs=10,\n",
    "                     factor=3, overwrite=True)"
   ]
  },
  {
   "cell_type": "code",
   "execution_count": 27,
   "id": "20c8702b-b4ea-42a7-922d-07ad6e4f0401",
   "metadata": {},
   "outputs": [],
   "source": [
    "stop_early = EarlyStopping(monitor='val_loss', patience=4)"
   ]
  },
  {
   "cell_type": "code",
   "execution_count": 28,
   "id": "285ca199-9ff7-40c1-ac26-833bb23607a7",
   "metadata": {},
   "outputs": [
    {
     "name": "stdout",
     "output_type": "stream",
     "text": [
      "Trial 30 Complete [00h 01m 22s]\n",
      "val_loss: 0.0009202403016388416\n",
      "\n",
      "Best val_loss So Far: 0.000634740456007421\n",
      "Total elapsed time: 00h 14m 14s\n"
     ]
    }
   ],
   "source": [
    "tuner_opt.search(x_train, y_train, epochs=20, validation_split=0.2, callbacks=[stop_early])\n",
    "\n",
    "best_hps=tuner_opt.get_best_hyperparameters(num_trials=1)[0]"
   ]
  },
  {
   "cell_type": "code",
   "execution_count": 29,
   "id": "7c295819-d28c-465f-81a6-995c351fce28",
   "metadata": {},
   "outputs": [
    {
     "name": "stdout",
     "output_type": "stream",
     "text": [
      "Best units in hidden layer 1: 160\n",
      "Best units in hidden layer 2: 256\n",
      "Best learning rate: 0.001\n"
     ]
    }
   ],
   "source": [
    "print(f\"Best units in hidden layer 1: {best_hps.get('units')}\")\n",
    "print(f\"Best units in hidden layer 2: {best_hps.get('units2')}\")\n",
    "print(f\"Best learning rate: {best_hps.get('learning_rate')}\")"
   ]
  },
  {
   "cell_type": "code",
   "execution_count": 30,
   "id": "2ae751d3-f3ef-4e67-b1bd-a4246dc489f4",
   "metadata": {},
   "outputs": [
    {
     "name": "stderr",
     "output_type": "stream",
     "text": [
      "WARNING:absl:At this time, the v2.11+ optimizer `tf.keras.optimizers.Adam` runs slowly on M1/M2 Macs, please use the legacy Keras optimizer instead, located at `tf.keras.optimizers.legacy.Adam`.\n",
      "WARNING:absl:There is a known slowdown when using v2.11+ Keras optimizers on M1/M2 Macs. Falling back to the legacy Keras optimizer, i.e., `tf.keras.optimizers.legacy.Adam`.\n"
     ]
    },
    {
     "name": "stdout",
     "output_type": "stream",
     "text": [
      "Epoch 1/30\n",
      "4089/4089 [==============================] - 7s 2ms/step - loss: 0.0107 - mean_squared_error: 0.0107 - val_loss: 0.0015 - val_mean_squared_error: 0.0015\n",
      "Epoch 2/30\n",
      "4089/4089 [==============================] - 8s 2ms/step - loss: 0.0020 - mean_squared_error: 0.0020 - val_loss: 9.5665e-04 - val_mean_squared_error: 9.5583e-04\n",
      "Epoch 3/30\n",
      "4089/4089 [==============================] - 5s 1ms/step - loss: 0.0012 - mean_squared_error: 0.0012 - val_loss: 0.0020 - val_mean_squared_error: 0.0020\n",
      "Epoch 4/30\n",
      "4089/4089 [==============================] - 5s 1ms/step - loss: 9.2363e-04 - mean_squared_error: 9.2370e-04 - val_loss: 0.0011 - val_mean_squared_error: 0.0011\n",
      "Epoch 5/30\n",
      "4089/4089 [==============================] - 6s 2ms/step - loss: 7.7075e-04 - mean_squared_error: 7.7069e-04 - val_loss: 7.8056e-04 - val_mean_squared_error: 7.8063e-04\n",
      "Epoch 6/30\n",
      "4089/4089 [==============================] - 5s 1ms/step - loss: 7.4042e-04 - mean_squared_error: 7.4038e-04 - val_loss: 9.1946e-04 - val_mean_squared_error: 9.1868e-04\n",
      "Epoch 7/30\n",
      "4089/4089 [==============================] - 7s 2ms/step - loss: 7.1058e-04 - mean_squared_error: 7.1070e-04 - val_loss: 6.0858e-04 - val_mean_squared_error: 6.0823e-04\n",
      "Epoch 8/30\n",
      "4089/4089 [==============================] - 7s 2ms/step - loss: 7.0704e-04 - mean_squared_error: 7.0712e-04 - val_loss: 6.6482e-04 - val_mean_squared_error: 6.6484e-04\n",
      "Epoch 9/30\n",
      "4089/4089 [==============================] - 10s 2ms/step - loss: 6.9088e-04 - mean_squared_error: 6.9093e-04 - val_loss: 8.5734e-04 - val_mean_squared_error: 8.5715e-04\n",
      "Epoch 10/30\n",
      "4089/4089 [==============================] - 8s 2ms/step - loss: 6.8200e-04 - mean_squared_error: 6.8193e-04 - val_loss: 6.4349e-04 - val_mean_squared_error: 6.4315e-04\n",
      "Epoch 11/30\n",
      "4089/4089 [==============================] - 7s 2ms/step - loss: 6.7746e-04 - mean_squared_error: 6.7752e-04 - val_loss: 6.1477e-04 - val_mean_squared_error: 6.1429e-04\n",
      "Epoch 12/30\n",
      "4089/4089 [==============================] - 5s 1ms/step - loss: 6.6304e-04 - mean_squared_error: 6.6315e-04 - val_loss: 7.4426e-04 - val_mean_squared_error: 7.4366e-04\n",
      "Epoch 13/30\n",
      "4089/4089 [==============================] - 5s 1ms/step - loss: 6.5879e-04 - mean_squared_error: 6.5872e-04 - val_loss: 6.2666e-04 - val_mean_squared_error: 6.2640e-04\n",
      "Epoch 14/30\n",
      "4089/4089 [==============================] - 6s 1ms/step - loss: 6.5865e-04 - mean_squared_error: 6.5862e-04 - val_loss: 5.9055e-04 - val_mean_squared_error: 5.9014e-04\n",
      "Epoch 15/30\n",
      "4089/4089 [==============================] - 5s 1ms/step - loss: 6.5866e-04 - mean_squared_error: 6.5867e-04 - val_loss: 0.0011 - val_mean_squared_error: 0.0011\n",
      "Epoch 16/30\n",
      "4089/4089 [==============================] - 6s 2ms/step - loss: 6.7029e-04 - mean_squared_error: 6.7029e-04 - val_loss: 5.9225e-04 - val_mean_squared_error: 5.9184e-04\n",
      "Epoch 17/30\n",
      "4089/4089 [==============================] - 6s 2ms/step - loss: 6.5044e-04 - mean_squared_error: 6.5036e-04 - val_loss: 5.5400e-04 - val_mean_squared_error: 5.5355e-04\n",
      "Epoch 18/30\n",
      "4089/4089 [==============================] - 5s 1ms/step - loss: 6.4533e-04 - mean_squared_error: 6.4533e-04 - val_loss: 5.4887e-04 - val_mean_squared_error: 5.4840e-04\n",
      "Epoch 19/30\n",
      "4089/4089 [==============================] - 5s 1ms/step - loss: 6.3603e-04 - mean_squared_error: 6.3619e-04 - val_loss: 5.7135e-04 - val_mean_squared_error: 5.7098e-04\n",
      "Epoch 20/30\n",
      "4089/4089 [==============================] - 6s 1ms/step - loss: 6.4062e-04 - mean_squared_error: 6.4056e-04 - val_loss: 5.6707e-04 - val_mean_squared_error: 5.6660e-04\n",
      "Epoch 21/30\n",
      "4089/4089 [==============================] - 5s 1ms/step - loss: 6.4592e-04 - mean_squared_error: 6.4583e-04 - val_loss: 6.0858e-04 - val_mean_squared_error: 6.0815e-04\n",
      "Epoch 22/30\n",
      "4089/4089 [==============================] - 6s 1ms/step - loss: 6.3349e-04 - mean_squared_error: 6.3337e-04 - val_loss: 6.5275e-04 - val_mean_squared_error: 6.5221e-04\n",
      "Epoch 23/30\n",
      "4089/4089 [==============================] - 7s 2ms/step - loss: 6.2574e-04 - mean_squared_error: 6.2563e-04 - val_loss: 5.5085e-04 - val_mean_squared_error: 5.5041e-04\n",
      "Epoch 24/30\n",
      "4089/4089 [==============================] - 8s 2ms/step - loss: 6.2938e-04 - mean_squared_error: 6.2936e-04 - val_loss: 5.5914e-04 - val_mean_squared_error: 5.5866e-04\n",
      "Epoch 25/30\n",
      "4089/4089 [==============================] - 9s 2ms/step - loss: 6.3028e-04 - mean_squared_error: 6.3022e-04 - val_loss: 5.4787e-04 - val_mean_squared_error: 5.4744e-04\n",
      "Epoch 26/30\n",
      "4089/4089 [==============================] - 50s 12ms/step - loss: 6.3866e-04 - mean_squared_error: 6.3857e-04 - val_loss: 5.8361e-04 - val_mean_squared_error: 5.8336e-04\n",
      "Epoch 27/30\n",
      "4089/4089 [==============================] - 18s 4ms/step - loss: 6.2553e-04 - mean_squared_error: 6.2550e-04 - val_loss: 5.5931e-04 - val_mean_squared_error: 5.5891e-04\n",
      "Epoch 28/30\n",
      "4089/4089 [==============================] - 6s 1ms/step - loss: 6.3128e-04 - mean_squared_error: 6.3117e-04 - val_loss: 6.1134e-04 - val_mean_squared_error: 6.1109e-04\n",
      "Epoch 29/30\n",
      "4089/4089 [==============================] - 5s 1ms/step - loss: 6.2171e-04 - mean_squared_error: 6.2171e-04 - val_loss: 6.5086e-04 - val_mean_squared_error: 6.5031e-04\n",
      "Epoch 30/30\n",
      "4089/4089 [==============================] - 6s 1ms/step - loss: 6.2194e-04 - mean_squared_error: 6.2188e-04 - val_loss: 5.6487e-04 - val_mean_squared_error: 5.6447e-04\n"
     ]
    }
   ],
   "source": [
    "best_tuner_model = tuner_opt.hypermodel.build(best_hps)\n",
    "history_best_tuner = best_tuner_model.fit(x_train, y_train, epochs=30, validation_split=0.2)"
   ]
  },
  {
   "cell_type": "code",
   "execution_count": 34,
   "id": "358c501f-79e1-4ef7-82cc-a8cc2ba7603d",
   "metadata": {},
   "outputs": [
    {
     "data": {
      "text/plain": [
       "25"
      ]
     },
     "execution_count": 34,
     "metadata": {},
     "output_type": "execute_result"
    }
   ],
   "source": [
    "val_loss_per_epoch = history_best_tuner.history['val_loss']\n",
    "best_epoch = val_loss_per_epoch.index(min(val_loss_per_epoch)) + 1\n",
    "best_epoch"
   ]
  },
  {
   "cell_type": "code",
   "execution_count": 36,
   "id": "cf78676e-a406-4789-963d-69ddc15252b3",
   "metadata": {},
   "outputs": [
    {
     "data": {
      "image/png": "[encoded data removed]",
      "text/plain": [
       "<Figure size 640x480 with 1 Axes>"
      ]
     },
     "metadata": {},
     "output_type": "display_data"
    }
   ],
   "source": [
    "plt.plot(history_best_tuner.history['mean_squared_error'])\n",
    "plt.plot(history_best_tuner.history['val_mean_squared_error'])\n",
    "plt.xlabel('epochs')\n",
    "plt.ylabel('MSE')\n",
    "plt.legend(['MSE', 'Val_MSE'])\n",
    "plt.show()"
   ]
  },
  {
   "cell_type": "code",
   "execution_count": 37,
   "id": "6bb42a43-a1e3-446d-bdfb-f23e400b14e4",
   "metadata": {},
   "outputs": [
    {
     "name": "stderr",
     "output_type": "stream",
     "text": [
      "WARNING:absl:At this time, the v2.11+ optimizer `tf.keras.optimizers.Adam` runs slowly on M1/M2 Macs, please use the legacy Keras optimizer instead, located at `tf.keras.optimizers.legacy.Adam`.\n",
      "WARNING:absl:There is a known slowdown when using v2.11+ Keras optimizers on M1/M2 Macs. Falling back to the legacy Keras optimizer, i.e., `tf.keras.optimizers.legacy.Adam`.\n"
     ]
    },
    {
     "name": "stdout",
     "output_type": "stream",
     "text": [
      "Epoch 1/25\n",
      "4089/4089 [==============================] - 7s 2ms/step - loss: 0.0085 - mean_squared_error: 0.0085 - val_loss: 7.4008e-04 - val_mean_squared_error: 7.4013e-04\n",
      "Epoch 2/25\n",
      "4089/4089 [==============================] - 7s 2ms/step - loss: 0.0018 - mean_squared_error: 0.0018 - val_loss: 0.0011 - val_mean_squared_error: 0.0011\n",
      "Epoch 3/25\n",
      "4089/4089 [==============================] - 18s 5ms/step - loss: 0.0010 - mean_squared_error: 0.0010 - val_loss: 6.8412e-04 - val_mean_squared_error: 6.8358e-04\n",
      "Epoch 4/25\n",
      "4089/4089 [==============================] - 41s 10ms/step - loss: 8.2386e-04 - mean_squared_error: 8.2388e-04 - val_loss: 7.3375e-04 - val_mean_squared_error: 7.3311e-04\n",
      "Epoch 5/25\n",
      "4089/4089 [==============================] - 93s 23ms/step - loss: 7.6573e-04 - mean_squared_error: 7.6566e-04 - val_loss: 8.4243e-04 - val_mean_squared_error: 8.4182e-04\n",
      "Epoch 6/25\n",
      "4089/4089 [==============================] - 7s 2ms/step - loss: 7.4910e-04 - mean_squared_error: 7.4921e-04 - val_loss: 0.0010 - val_mean_squared_error: 0.0010\n",
      "Epoch 7/25\n",
      "4089/4089 [==============================] - 6s 1ms/step - loss: 7.1983e-04 - mean_squared_error: 7.2005e-04 - val_loss: 0.0011 - val_mean_squared_error: 0.0011\n",
      "Epoch 8/25\n",
      "4089/4089 [==============================] - 5s 1ms/step - loss: 7.1420e-04 - mean_squared_error: 7.1415e-04 - val_loss: 8.1523e-04 - val_mean_squared_error: 8.1529e-04\n",
      "Epoch 9/25\n",
      "4089/4089 [==============================] - 6s 2ms/step - loss: 7.1295e-04 - mean_squared_error: 7.1307e-04 - val_loss: 6.7697e-04 - val_mean_squared_error: 6.7641e-04\n",
      "Epoch 10/25\n",
      "4089/4089 [==============================] - 5s 1ms/step - loss: 7.0381e-04 - mean_squared_error: 7.0375e-04 - val_loss: 6.4381e-04 - val_mean_squared_error: 6.4362e-04\n",
      "Epoch 11/25\n",
      "4089/4089 [==============================] - 4s 1ms/step - loss: 6.8767e-04 - mean_squared_error: 6.8764e-04 - val_loss: 7.1237e-04 - val_mean_squared_error: 7.1182e-04\n",
      "Epoch 12/25\n",
      "4089/4089 [==============================] - 6s 2ms/step - loss: 6.8628e-04 - mean_squared_error: 6.8619e-04 - val_loss: 5.9732e-04 - val_mean_squared_error: 5.9699e-04\n",
      "Epoch 13/25\n",
      "4089/4089 [==============================] - 5s 1ms/step - loss: 6.9154e-04 - mean_squared_error: 6.9162e-04 - val_loss: 8.3981e-04 - val_mean_squared_error: 8.3965e-04\n",
      "Epoch 14/25\n",
      "4089/4089 [==============================] - 5s 1ms/step - loss: 7.1276e-04 - mean_squared_error: 7.1270e-04 - val_loss: 6.2082e-04 - val_mean_squared_error: 6.2052e-04\n",
      "Epoch 15/25\n",
      "4089/4089 [==============================] - 5s 1ms/step - loss: 7.0124e-04 - mean_squared_error: 7.0138e-04 - val_loss: 8.3515e-04 - val_mean_squared_error: 8.3532e-04\n",
      "Epoch 16/25\n",
      "4089/4089 [==============================] - 6s 2ms/step - loss: 7.0606e-04 - mean_squared_error: 7.0600e-04 - val_loss: 9.2176e-04 - val_mean_squared_error: 9.2091e-04\n",
      "Epoch 17/25\n",
      "4089/4089 [==============================] - 5s 1ms/step - loss: 6.9266e-04 - mean_squared_error: 6.9264e-04 - val_loss: 8.5459e-04 - val_mean_squared_error: 8.5441e-04\n",
      "Epoch 18/25\n",
      "4089/4089 [==============================] - 5s 1ms/step - loss: 6.9595e-04 - mean_squared_error: 6.9585e-04 - val_loss: 6.6593e-04 - val_mean_squared_error: 6.6552e-04\n",
      "Epoch 19/25\n",
      "4089/4089 [==============================] - 6s 1ms/step - loss: 6.9417e-04 - mean_squared_error: 6.9429e-04 - val_loss: 7.0834e-04 - val_mean_squared_error: 7.0781e-04\n",
      "Epoch 20/25\n",
      "4089/4089 [==============================] - 5s 1ms/step - loss: 6.9457e-04 - mean_squared_error: 6.9465e-04 - val_loss: 6.4257e-04 - val_mean_squared_error: 6.4222e-04\n",
      "Epoch 21/25\n",
      "4089/4089 [==============================] - 6s 2ms/step - loss: 6.9391e-04 - mean_squared_error: 6.9411e-04 - val_loss: 7.6018e-04 - val_mean_squared_error: 7.5960e-04\n",
      "Epoch 22/25\n",
      "4089/4089 [==============================] - 5s 1ms/step - loss: 6.9006e-04 - mean_squared_error: 6.9006e-04 - val_loss: 6.4442e-04 - val_mean_squared_error: 6.4423e-04\n",
      "Epoch 23/25\n",
      "4089/4089 [==============================] - 5s 1ms/step - loss: 6.9146e-04 - mean_squared_error: 6.9155e-04 - val_loss: 6.4190e-04 - val_mean_squared_error: 6.4161e-04\n",
      "Epoch 24/25\n",
      "4089/4089 [==============================] - 5s 1ms/step - loss: 6.8443e-04 - mean_squared_error: 6.8452e-04 - val_loss: 6.7342e-04 - val_mean_squared_error: 6.7320e-04\n",
      "Epoch 25/25\n",
      "4089/4089 [==============================] - 5s 1ms/step - loss: 6.7827e-04 - mean_squared_error: 6.7842e-04 - val_loss: 6.2831e-04 - val_mean_squared_error: 6.2808e-04\n"
     ]
    },
    {
     "data": {
      "text/plain": [
       "<keras.callbacks.History at 0x1741eb850>"
      ]
     },
     "execution_count": 37,
     "metadata": {},
     "output_type": "execute_result"
    }
   ],
   "source": [
    "hypermodel = tuner_opt.hypermodel.build(best_hps)\n",
    "hypermodel.fit(x_train, y_train, epochs=best_epoch, validation_split=0.2)"
   ]
  },
  {
   "cell_type": "code",
   "execution_count": 38,
   "id": "19fafca3-415d-42b2-8464-d9b16efaa2e8",
   "metadata": {},
   "outputs": [
    {
     "name": "stdout",
     "output_type": "stream",
     "text": [
      "3407/3407 [==============================] - 2s 425us/step\n"
     ]
    },
    {
     "data": {
      "text/plain": [
       "0.0006387853398497483"
      ]
     },
     "execution_count": 38,
     "metadata": {},
     "output_type": "execute_result"
    }
   ],
   "source": [
    "tuner_preds = hypermodel.predict(x_test)\n",
    "mean_squared_error(y_test, tuner_preds)"
   ]
  },
  {
   "cell_type": "markdown",
   "id": "727f7921-1c4e-404c-ac3a-8484d3c6ff65",
   "metadata": {},
   "source": [
    "The tuned neural network performs better than the other ones! One could also experiment with tuning the number of hidden layers. "
   ]
  },
  {
   "cell_type": "markdown",
   "id": "d2abfd95-2a57-4756-b75e-c3f30c1ed274",
   "metadata": {},
   "source": [
    "## Results <a id=\"results\"></a>"
   ]
  },
  {
   "cell_type": "markdown",
   "id": "c754a102-4809-4e11-b06e-42cc1f6be3e3",
   "metadata": {},
   "source": [
    "| Model | Mean Squared Error |\n",
    "| :- | :- |\n",
    "| LinReg w/ G Magnitude | 0.00104 |\n",
    "| QuadReg w/ G Magnitude | 0.00101 |\n",
    "| 5thDeg Poly w/ G Magnitude | 0.000953 |\n",
    "| Multiple LinReg (all mags) | 0.000774 |\n",
    "| Default Decision Tree | 0.000921 |\n",
    "| Tuned Decision Tree | 0.000583 |\n",
    "| Default Random Forest | 0.000470 |\n",
    "| Tuned Random Forest | 0.000464 |\n",
    "| Default XGBoost | 0.000476 |\n",
    "| Tuned XGBoost | 0.000479 |\n",
    "| NN: 3 Hidden Layers & Adam | 0.000726 |\n",
    "| NN: 3 Hidden Layers & SGD | 0.000755 |\n",
    "| NN: 3 Hidden Layers & SGD w/ custom learning rate | 0.000833|\n",
    "| NN: Tuned, 2 Hidden Layers, Adam | 0.000638|\n",
    "\n"
   ]
  },
  {
   "cell_type": "markdown",
   "id": "f865e6c2-416d-4445-8b53-5d984ae2a1de",
   "metadata": {},
   "source": [
    "Based on the results, the tuned random forest performs best in predicting redshifts based on photometric magnitudes with an MSE of 0.000464. To put this into context, the average redshift in the dataset is 0.082 and the RMSE is 0.02154065922, which makes the percent error for an \"average\" redshift approximately 25%."
   ]
  }
 ],
 "metadata": {
  "kernelspec": {
   "display_name": "Python 3 (ipykernel)",
   "language": "python",
   "name": "python3"
  },
  "language_info": {
   "codemirror_mode": {
    "name": "ipython",
    "version": 3
   },
   "file_extension": ".py",
   "mimetype": "text/x-python",
   "name": "python",
   "nbconvert_exporter": "python",
   "pygments_lexer": "ipython3",
   "version": "3.12.4"
  }
 },
 "nbformat": 4,
 "nbformat_minor": 5
}
